{
 "cells": [
  {
   "cell_type": "code",
   "execution_count": 329,
   "metadata": {},
   "outputs": [],
   "source": [
    "import pandas as pd\n",
    "import numpy as np\n",
    "import matplotlib.pyplot as plt"
   ]
  },
  {
   "cell_type": "code",
   "execution_count": 423,
   "metadata": {},
   "outputs": [],
   "source": [
    "movies = pd.read_csv('movies.csv')\n",
    "ratings = pd.read_csv('ratings.csv')\n",
    "tags = pd.read_csv('tags.csv')"
   ]
  },
  {
   "cell_type": "code",
   "execution_count": 424,
   "metadata": {},
   "outputs": [
    {
     "data": {
      "text/html": [
       "<div>\n",
       "<style scoped>\n",
       "    .dataframe tbody tr th:only-of-type {\n",
       "        vertical-align: middle;\n",
       "    }\n",
       "\n",
       "    .dataframe tbody tr th {\n",
       "        vertical-align: top;\n",
       "    }\n",
       "\n",
       "    .dataframe thead th {\n",
       "        text-align: right;\n",
       "    }\n",
       "</style>\n",
       "<table border=\"1\" class=\"dataframe\">\n",
       "  <thead>\n",
       "    <tr style=\"text-align: right;\">\n",
       "      <th></th>\n",
       "      <th>movieId</th>\n",
       "      <th>title</th>\n",
       "      <th>genres</th>\n",
       "    </tr>\n",
       "  </thead>\n",
       "  <tbody>\n",
       "    <tr>\n",
       "      <th>0</th>\n",
       "      <td>1</td>\n",
       "      <td>Toy Story (1995)</td>\n",
       "      <td>Adventure|Animation|Children|Comedy|Fantasy</td>\n",
       "    </tr>\n",
       "    <tr>\n",
       "      <th>1</th>\n",
       "      <td>2</td>\n",
       "      <td>Jumanji (1995)</td>\n",
       "      <td>Adventure|Children|Fantasy</td>\n",
       "    </tr>\n",
       "  </tbody>\n",
       "</table>\n",
       "</div>"
      ],
      "text/plain": [
       "   movieId             title                                       genres\n",
       "0        1  Toy Story (1995)  Adventure|Animation|Children|Comedy|Fantasy\n",
       "1        2    Jumanji (1995)                   Adventure|Children|Fantasy"
      ]
     },
     "execution_count": 424,
     "metadata": {},
     "output_type": "execute_result"
    }
   ],
   "source": [
    "movies.head(2)"
   ]
  },
  {
   "cell_type": "code",
   "execution_count": 425,
   "metadata": {},
   "outputs": [
    {
     "data": {
      "text/html": [
       "<div>\n",
       "<style scoped>\n",
       "    .dataframe tbody tr th:only-of-type {\n",
       "        vertical-align: middle;\n",
       "    }\n",
       "\n",
       "    .dataframe tbody tr th {\n",
       "        vertical-align: top;\n",
       "    }\n",
       "\n",
       "    .dataframe thead th {\n",
       "        text-align: right;\n",
       "    }\n",
       "</style>\n",
       "<table border=\"1\" class=\"dataframe\">\n",
       "  <thead>\n",
       "    <tr style=\"text-align: right;\">\n",
       "      <th></th>\n",
       "      <th>userId</th>\n",
       "      <th>movieId</th>\n",
       "      <th>rating</th>\n",
       "      <th>timestamp</th>\n",
       "    </tr>\n",
       "  </thead>\n",
       "  <tbody>\n",
       "    <tr>\n",
       "      <th>0</th>\n",
       "      <td>1</td>\n",
       "      <td>1</td>\n",
       "      <td>4.0</td>\n",
       "      <td>964982703</td>\n",
       "    </tr>\n",
       "    <tr>\n",
       "      <th>1</th>\n",
       "      <td>1</td>\n",
       "      <td>3</td>\n",
       "      <td>4.0</td>\n",
       "      <td>964981247</td>\n",
       "    </tr>\n",
       "  </tbody>\n",
       "</table>\n",
       "</div>"
      ],
      "text/plain": [
       "   userId  movieId  rating  timestamp\n",
       "0       1        1     4.0  964982703\n",
       "1       1        3     4.0  964981247"
      ]
     },
     "execution_count": 425,
     "metadata": {},
     "output_type": "execute_result"
    }
   ],
   "source": [
    "ratings.head(2)"
   ]
  },
  {
   "cell_type": "code",
   "execution_count": 426,
   "metadata": {},
   "outputs": [
    {
     "data": {
      "text/html": [
       "<div>\n",
       "<style scoped>\n",
       "    .dataframe tbody tr th:only-of-type {\n",
       "        vertical-align: middle;\n",
       "    }\n",
       "\n",
       "    .dataframe tbody tr th {\n",
       "        vertical-align: top;\n",
       "    }\n",
       "\n",
       "    .dataframe thead th {\n",
       "        text-align: right;\n",
       "    }\n",
       "</style>\n",
       "<table border=\"1\" class=\"dataframe\">\n",
       "  <thead>\n",
       "    <tr style=\"text-align: right;\">\n",
       "      <th></th>\n",
       "      <th>userId</th>\n",
       "      <th>movieId</th>\n",
       "      <th>tag</th>\n",
       "      <th>timestamp</th>\n",
       "    </tr>\n",
       "  </thead>\n",
       "  <tbody>\n",
       "    <tr>\n",
       "      <th>0</th>\n",
       "      <td>2</td>\n",
       "      <td>60756</td>\n",
       "      <td>funny</td>\n",
       "      <td>1445714994</td>\n",
       "    </tr>\n",
       "    <tr>\n",
       "      <th>1</th>\n",
       "      <td>2</td>\n",
       "      <td>60756</td>\n",
       "      <td>Highly quotable</td>\n",
       "      <td>1445714996</td>\n",
       "    </tr>\n",
       "  </tbody>\n",
       "</table>\n",
       "</div>"
      ],
      "text/plain": [
       "   userId  movieId              tag   timestamp\n",
       "0       2    60756            funny  1445714994\n",
       "1       2    60756  Highly quotable  1445714996"
      ]
     },
     "execution_count": 426,
     "metadata": {},
     "output_type": "execute_result"
    }
   ],
   "source": [
    "tags.head(2)"
   ]
  },
  {
   "cell_type": "code",
   "execution_count": 427,
   "metadata": {},
   "outputs": [],
   "source": [
    "def normed_user_rate_func(x):\n",
    "    \"\"\"\n",
    "    Функция для нормирования оценки пользователя\n",
    "    \"\"\"\n",
    "    if x.max() != x.min():\n",
    "        return (x - x.min())/(x.max() - x.min())\n",
    "    else:\n",
    "        return 1\n",
    "    \n",
    "ratings['normed_user_rating'] = ratings.groupby('userId', sort=False)['rating'].transform(normed_user_rate_func)"
   ]
  },
  {
   "cell_type": "code",
   "execution_count": 428,
   "metadata": {},
   "outputs": [
    {
     "data": {
      "text/html": [
       "<div>\n",
       "<style scoped>\n",
       "    .dataframe tbody tr th:only-of-type {\n",
       "        vertical-align: middle;\n",
       "    }\n",
       "\n",
       "    .dataframe tbody tr th {\n",
       "        vertical-align: top;\n",
       "    }\n",
       "\n",
       "    .dataframe thead th {\n",
       "        text-align: right;\n",
       "    }\n",
       "</style>\n",
       "<table border=\"1\" class=\"dataframe\">\n",
       "  <thead>\n",
       "    <tr style=\"text-align: right;\">\n",
       "      <th></th>\n",
       "      <th>userId</th>\n",
       "      <th>movieId</th>\n",
       "      <th>rating</th>\n",
       "      <th>timestamp</th>\n",
       "      <th>normed_user_rating</th>\n",
       "    </tr>\n",
       "  </thead>\n",
       "  <tbody>\n",
       "    <tr>\n",
       "      <th>0</th>\n",
       "      <td>1</td>\n",
       "      <td>1</td>\n",
       "      <td>4.0</td>\n",
       "      <td>964982703</td>\n",
       "      <td>0.75</td>\n",
       "    </tr>\n",
       "    <tr>\n",
       "      <th>1</th>\n",
       "      <td>1</td>\n",
       "      <td>3</td>\n",
       "      <td>4.0</td>\n",
       "      <td>964981247</td>\n",
       "      <td>0.75</td>\n",
       "    </tr>\n",
       "  </tbody>\n",
       "</table>\n",
       "</div>"
      ],
      "text/plain": [
       "   userId  movieId  rating  timestamp  normed_user_rating\n",
       "0       1        1     4.0  964982703                0.75\n",
       "1       1        3     4.0  964981247                0.75"
      ]
     },
     "execution_count": 428,
     "metadata": {},
     "output_type": "execute_result"
    }
   ],
   "source": [
    "ratings.head(2)"
   ]
  },
  {
   "cell_type": "code",
   "execution_count": 429,
   "metadata": {},
   "outputs": [],
   "source": [
    "# количество оценок по фильмам\n",
    "movies_rating_count = ratings.groupby('movieId', sort=False)['rating'].count()\n",
    "# средняя нормированная оценка пользователей для каждого фильма\n",
    "movies_norm_mean_rating = ratings.groupby('movieId', sort=False)['normed_user_rating'].mean()\n",
    "# средняя оценка фильма по пользователям\n",
    "movies_mean_rating = ratings.groupby('movieId', sort=False)[['rating']].mean()"
   ]
  },
  {
   "cell_type": "code",
   "execution_count": 430,
   "metadata": {},
   "outputs": [],
   "source": [
    "movies = pd.merge(movies, pd.DataFrame(movies_rating_count).rename(columns={'rating':'rating_count'}), \n",
    "                  left_on='movieId', right_index=True)"
   ]
  },
  {
   "cell_type": "code",
   "execution_count": 431,
   "metadata": {},
   "outputs": [],
   "source": [
    "movies = pd.merge(movies, movies_mean_rating.rename(columns={'rating':'mean_rating'}), \n",
    "                  left_on='movieId', right_index=True)"
   ]
  },
  {
   "cell_type": "code",
   "execution_count": 432,
   "metadata": {},
   "outputs": [
    {
     "data": {
      "text/html": [
       "<div>\n",
       "<style scoped>\n",
       "    .dataframe tbody tr th:only-of-type {\n",
       "        vertical-align: middle;\n",
       "    }\n",
       "\n",
       "    .dataframe tbody tr th {\n",
       "        vertical-align: top;\n",
       "    }\n",
       "\n",
       "    .dataframe thead th {\n",
       "        text-align: right;\n",
       "    }\n",
       "</style>\n",
       "<table border=\"1\" class=\"dataframe\">\n",
       "  <thead>\n",
       "    <tr style=\"text-align: right;\">\n",
       "      <th></th>\n",
       "      <th>movieId</th>\n",
       "      <th>title</th>\n",
       "      <th>genres</th>\n",
       "      <th>rating_count</th>\n",
       "      <th>mean_rating</th>\n",
       "    </tr>\n",
       "  </thead>\n",
       "  <tbody>\n",
       "    <tr>\n",
       "      <th>0</th>\n",
       "      <td>1</td>\n",
       "      <td>Toy Story (1995)</td>\n",
       "      <td>Adventure|Animation|Children|Comedy|Fantasy</td>\n",
       "      <td>215</td>\n",
       "      <td>3.920930</td>\n",
       "    </tr>\n",
       "    <tr>\n",
       "      <th>1</th>\n",
       "      <td>2</td>\n",
       "      <td>Jumanji (1995)</td>\n",
       "      <td>Adventure|Children|Fantasy</td>\n",
       "      <td>110</td>\n",
       "      <td>3.431818</td>\n",
       "    </tr>\n",
       "  </tbody>\n",
       "</table>\n",
       "</div>"
      ],
      "text/plain": [
       "   movieId             title                                       genres  \\\n",
       "0        1  Toy Story (1995)  Adventure|Animation|Children|Comedy|Fantasy   \n",
       "1        2    Jumanji (1995)                   Adventure|Children|Fantasy   \n",
       "\n",
       "   rating_count  mean_rating  \n",
       "0           215     3.920930  \n",
       "1           110     3.431818  "
      ]
     },
     "execution_count": 432,
     "metadata": {},
     "output_type": "execute_result"
    }
   ],
   "source": [
    "movies.head(2)"
   ]
  },
  {
   "cell_type": "code",
   "execution_count": 433,
   "metadata": {},
   "outputs": [],
   "source": [
    "# среднее количество оценок фильма\n",
    "mean_num_rate = movies_rating_count.mean()\n",
    "std_num_rate = movies_rating_count.std()"
   ]
  },
  {
   "cell_type": "code",
   "execution_count": 434,
   "metadata": {},
   "outputs": [],
   "source": [
    "# нормированная средняя оценка фильма\n",
    "movies_mean_normed_rating = pd.DataFrame(movies_norm_mean_rating*\n",
    "        (movies_rating_count - mean_num_rate)/std_num_rate, columns=['movie_normed_mean_rating'])"
   ]
  },
  {
   "cell_type": "code",
   "execution_count": 435,
   "metadata": {},
   "outputs": [
    {
     "data": {
      "text/html": [
       "<div>\n",
       "<style scoped>\n",
       "    .dataframe tbody tr th:only-of-type {\n",
       "        vertical-align: middle;\n",
       "    }\n",
       "\n",
       "    .dataframe tbody tr th {\n",
       "        vertical-align: top;\n",
       "    }\n",
       "\n",
       "    .dataframe thead th {\n",
       "        text-align: right;\n",
       "    }\n",
       "</style>\n",
       "<table border=\"1\" class=\"dataframe\">\n",
       "  <thead>\n",
       "    <tr style=\"text-align: right;\">\n",
       "      <th></th>\n",
       "      <th>movie_normed_mean_rating</th>\n",
       "    </tr>\n",
       "    <tr>\n",
       "      <th>movieId</th>\n",
       "      <th></th>\n",
       "    </tr>\n",
       "  </thead>\n",
       "  <tbody>\n",
       "    <tr>\n",
       "      <th>1</th>\n",
       "      <td>6.584792</td>\n",
       "    </tr>\n",
       "    <tr>\n",
       "      <th>3</th>\n",
       "      <td>0.977352</td>\n",
       "    </tr>\n",
       "  </tbody>\n",
       "</table>\n",
       "</div>"
      ],
      "text/plain": [
       "         movie_normed_mean_rating\n",
       "movieId                          \n",
       "1                        6.584792\n",
       "3                        0.977352"
      ]
     },
     "execution_count": 435,
     "metadata": {},
     "output_type": "execute_result"
    }
   ],
   "source": [
    "movies_mean_normed_rating.head(2)"
   ]
  },
  {
   "cell_type": "code",
   "execution_count": 436,
   "metadata": {},
   "outputs": [],
   "source": [
    "movies = pd.merge(movies, movies_mean_normed_rating, left_on='movieId', right_index=True)"
   ]
  },
  {
   "cell_type": "code",
   "execution_count": 437,
   "metadata": {},
   "outputs": [
    {
     "data": {
      "text/html": [
       "<div>\n",
       "<style scoped>\n",
       "    .dataframe tbody tr th:only-of-type {\n",
       "        vertical-align: middle;\n",
       "    }\n",
       "\n",
       "    .dataframe tbody tr th {\n",
       "        vertical-align: top;\n",
       "    }\n",
       "\n",
       "    .dataframe thead th {\n",
       "        text-align: right;\n",
       "    }\n",
       "</style>\n",
       "<table border=\"1\" class=\"dataframe\">\n",
       "  <thead>\n",
       "    <tr style=\"text-align: right;\">\n",
       "      <th></th>\n",
       "      <th>movieId</th>\n",
       "      <th>title</th>\n",
       "      <th>genres</th>\n",
       "      <th>rating_count</th>\n",
       "      <th>mean_rating</th>\n",
       "      <th>movie_normed_mean_rating</th>\n",
       "    </tr>\n",
       "  </thead>\n",
       "  <tbody>\n",
       "    <tr>\n",
       "      <th>0</th>\n",
       "      <td>1</td>\n",
       "      <td>Toy Story (1995)</td>\n",
       "      <td>Adventure|Animation|Children|Comedy|Fantasy</td>\n",
       "      <td>215</td>\n",
       "      <td>3.920930</td>\n",
       "      <td>6.584792</td>\n",
       "    </tr>\n",
       "    <tr>\n",
       "      <th>1</th>\n",
       "      <td>2</td>\n",
       "      <td>Jumanji (1995)</td>\n",
       "      <td>Adventure|Children|Fantasy</td>\n",
       "      <td>110</td>\n",
       "      <td>3.431818</td>\n",
       "      <td>2.674611</td>\n",
       "    </tr>\n",
       "  </tbody>\n",
       "</table>\n",
       "</div>"
      ],
      "text/plain": [
       "   movieId             title                                       genres  \\\n",
       "0        1  Toy Story (1995)  Adventure|Animation|Children|Comedy|Fantasy   \n",
       "1        2    Jumanji (1995)                   Adventure|Children|Fantasy   \n",
       "\n",
       "   rating_count  mean_rating  movie_normed_mean_rating  \n",
       "0           215     3.920930                  6.584792  \n",
       "1           110     3.431818                  2.674611  "
      ]
     },
     "execution_count": 437,
     "metadata": {},
     "output_type": "execute_result"
    }
   ],
   "source": [
    "movies.head(2)"
   ]
  },
  {
   "cell_type": "code",
   "execution_count": 438,
   "metadata": {},
   "outputs": [],
   "source": [
    "# количество тэгов для каждого фильма\n",
    "movies_tag_count = tags.groupby('movieId')[['tag']].count()\n",
    "movies_tag_count.columns = ['num_of_tags']"
   ]
  },
  {
   "cell_type": "code",
   "execution_count": 439,
   "metadata": {},
   "outputs": [
    {
     "data": {
      "text/html": [
       "<div>\n",
       "<style scoped>\n",
       "    .dataframe tbody tr th:only-of-type {\n",
       "        vertical-align: middle;\n",
       "    }\n",
       "\n",
       "    .dataframe tbody tr th {\n",
       "        vertical-align: top;\n",
       "    }\n",
       "\n",
       "    .dataframe thead th {\n",
       "        text-align: right;\n",
       "    }\n",
       "</style>\n",
       "<table border=\"1\" class=\"dataframe\">\n",
       "  <thead>\n",
       "    <tr style=\"text-align: right;\">\n",
       "      <th></th>\n",
       "      <th>num_of_tags</th>\n",
       "    </tr>\n",
       "    <tr>\n",
       "      <th>movieId</th>\n",
       "      <th></th>\n",
       "    </tr>\n",
       "  </thead>\n",
       "  <tbody>\n",
       "    <tr>\n",
       "      <th>1</th>\n",
       "      <td>3</td>\n",
       "    </tr>\n",
       "    <tr>\n",
       "      <th>2</th>\n",
       "      <td>4</td>\n",
       "    </tr>\n",
       "  </tbody>\n",
       "</table>\n",
       "</div>"
      ],
      "text/plain": [
       "         num_of_tags\n",
       "movieId             \n",
       "1                  3\n",
       "2                  4"
      ]
     },
     "execution_count": 439,
     "metadata": {},
     "output_type": "execute_result"
    }
   ],
   "source": [
    "movies_tag_count.head(2)"
   ]
  },
  {
   "cell_type": "code",
   "execution_count": 440,
   "metadata": {},
   "outputs": [],
   "source": [
    "movies = pd.merge(movies, movies_tag_count, left_on='movieId', right_index=True)"
   ]
  },
  {
   "cell_type": "code",
   "execution_count": 441,
   "metadata": {},
   "outputs": [
    {
     "data": {
      "text/html": [
       "<div>\n",
       "<style scoped>\n",
       "    .dataframe tbody tr th:only-of-type {\n",
       "        vertical-align: middle;\n",
       "    }\n",
       "\n",
       "    .dataframe tbody tr th {\n",
       "        vertical-align: top;\n",
       "    }\n",
       "\n",
       "    .dataframe thead th {\n",
       "        text-align: right;\n",
       "    }\n",
       "</style>\n",
       "<table border=\"1\" class=\"dataframe\">\n",
       "  <thead>\n",
       "    <tr style=\"text-align: right;\">\n",
       "      <th></th>\n",
       "      <th>movieId</th>\n",
       "      <th>title</th>\n",
       "      <th>genres</th>\n",
       "      <th>rating_count</th>\n",
       "      <th>mean_rating</th>\n",
       "      <th>movie_normed_mean_rating</th>\n",
       "      <th>num_of_tags</th>\n",
       "    </tr>\n",
       "  </thead>\n",
       "  <tbody>\n",
       "    <tr>\n",
       "      <th>0</th>\n",
       "      <td>1</td>\n",
       "      <td>Toy Story (1995)</td>\n",
       "      <td>Adventure|Animation|Children|Comedy|Fantasy</td>\n",
       "      <td>215</td>\n",
       "      <td>3.920930</td>\n",
       "      <td>6.584792</td>\n",
       "      <td>3</td>\n",
       "    </tr>\n",
       "    <tr>\n",
       "      <th>1</th>\n",
       "      <td>2</td>\n",
       "      <td>Jumanji (1995)</td>\n",
       "      <td>Adventure|Children|Fantasy</td>\n",
       "      <td>110</td>\n",
       "      <td>3.431818</td>\n",
       "      <td>2.674611</td>\n",
       "      <td>4</td>\n",
       "    </tr>\n",
       "  </tbody>\n",
       "</table>\n",
       "</div>"
      ],
      "text/plain": [
       "   movieId             title                                       genres  \\\n",
       "0        1  Toy Story (1995)  Adventure|Animation|Children|Comedy|Fantasy   \n",
       "1        2    Jumanji (1995)                   Adventure|Children|Fantasy   \n",
       "\n",
       "   rating_count  mean_rating  movie_normed_mean_rating  num_of_tags  \n",
       "0           215     3.920930                  6.584792            3  \n",
       "1           110     3.431818                  2.674611            4  "
      ]
     },
     "execution_count": 441,
     "metadata": {},
     "output_type": "execute_result"
    }
   ],
   "source": [
    "movies.head(2)"
   ]
  },
  {
   "cell_type": "code",
   "execution_count": 442,
   "metadata": {},
   "outputs": [],
   "source": [
    "tags['tag'] = tags['tag'].str.lower()\n",
    "movie_tags = tags.groupby('movieId')[['tag']].agg(' '.join)\n",
    "movie_tags.columns = ['tags']"
   ]
  },
  {
   "cell_type": "code",
   "execution_count": 443,
   "metadata": {},
   "outputs": [
    {
     "data": {
      "text/html": [
       "<div>\n",
       "<style scoped>\n",
       "    .dataframe tbody tr th:only-of-type {\n",
       "        vertical-align: middle;\n",
       "    }\n",
       "\n",
       "    .dataframe tbody tr th {\n",
       "        vertical-align: top;\n",
       "    }\n",
       "\n",
       "    .dataframe thead th {\n",
       "        text-align: right;\n",
       "    }\n",
       "</style>\n",
       "<table border=\"1\" class=\"dataframe\">\n",
       "  <thead>\n",
       "    <tr style=\"text-align: right;\">\n",
       "      <th></th>\n",
       "      <th>tags</th>\n",
       "    </tr>\n",
       "    <tr>\n",
       "      <th>movieId</th>\n",
       "      <th></th>\n",
       "    </tr>\n",
       "  </thead>\n",
       "  <tbody>\n",
       "    <tr>\n",
       "      <th>1</th>\n",
       "      <td>pixar pixar fun</td>\n",
       "    </tr>\n",
       "    <tr>\n",
       "      <th>2</th>\n",
       "      <td>fantasy magic board game robin williams game</td>\n",
       "    </tr>\n",
       "  </tbody>\n",
       "</table>\n",
       "</div>"
      ],
      "text/plain": [
       "                                                 tags\n",
       "movieId                                              \n",
       "1                                     pixar pixar fun\n",
       "2        fantasy magic board game robin williams game"
      ]
     },
     "execution_count": 443,
     "metadata": {},
     "output_type": "execute_result"
    }
   ],
   "source": [
    "movie_tags.head(2)"
   ]
  },
  {
   "cell_type": "code",
   "execution_count": 444,
   "metadata": {},
   "outputs": [],
   "source": [
    "movies = pd.merge(movies, movie_tags, left_on='movieId', right_index=True)"
   ]
  },
  {
   "cell_type": "code",
   "execution_count": 445,
   "metadata": {},
   "outputs": [
    {
     "data": {
      "text/html": [
       "<div>\n",
       "<style scoped>\n",
       "    .dataframe tbody tr th:only-of-type {\n",
       "        vertical-align: middle;\n",
       "    }\n",
       "\n",
       "    .dataframe tbody tr th {\n",
       "        vertical-align: top;\n",
       "    }\n",
       "\n",
       "    .dataframe thead th {\n",
       "        text-align: right;\n",
       "    }\n",
       "</style>\n",
       "<table border=\"1\" class=\"dataframe\">\n",
       "  <thead>\n",
       "    <tr style=\"text-align: right;\">\n",
       "      <th></th>\n",
       "      <th>movieId</th>\n",
       "      <th>title</th>\n",
       "      <th>genres</th>\n",
       "      <th>rating_count</th>\n",
       "      <th>mean_rating</th>\n",
       "      <th>movie_normed_mean_rating</th>\n",
       "      <th>num_of_tags</th>\n",
       "      <th>tags</th>\n",
       "    </tr>\n",
       "  </thead>\n",
       "  <tbody>\n",
       "    <tr>\n",
       "      <th>0</th>\n",
       "      <td>1</td>\n",
       "      <td>Toy Story (1995)</td>\n",
       "      <td>Adventure|Animation|Children|Comedy|Fantasy</td>\n",
       "      <td>215</td>\n",
       "      <td>3.920930</td>\n",
       "      <td>6.584792</td>\n",
       "      <td>3</td>\n",
       "      <td>pixar pixar fun</td>\n",
       "    </tr>\n",
       "    <tr>\n",
       "      <th>1</th>\n",
       "      <td>2</td>\n",
       "      <td>Jumanji (1995)</td>\n",
       "      <td>Adventure|Children|Fantasy</td>\n",
       "      <td>110</td>\n",
       "      <td>3.431818</td>\n",
       "      <td>2.674611</td>\n",
       "      <td>4</td>\n",
       "      <td>fantasy magic board game robin williams game</td>\n",
       "    </tr>\n",
       "  </tbody>\n",
       "</table>\n",
       "</div>"
      ],
      "text/plain": [
       "   movieId             title                                       genres  \\\n",
       "0        1  Toy Story (1995)  Adventure|Animation|Children|Comedy|Fantasy   \n",
       "1        2    Jumanji (1995)                   Adventure|Children|Fantasy   \n",
       "\n",
       "   rating_count  mean_rating  movie_normed_mean_rating  num_of_tags  \\\n",
       "0           215     3.920930                  6.584792            3   \n",
       "1           110     3.431818                  2.674611            4   \n",
       "\n",
       "                                           tags  \n",
       "0                               pixar pixar fun  \n",
       "1  fantasy magic board game robin williams game  "
      ]
     },
     "execution_count": 445,
     "metadata": {},
     "output_type": "execute_result"
    }
   ],
   "source": [
    "movies.head(2)"
   ]
  },
  {
   "cell_type": "code",
   "execution_count": 446,
   "metadata": {},
   "outputs": [],
   "source": [
    "import re\n",
    "\n",
    "def extract_year(row):\n",
    "    match = re.search('\\(\\D*\\d{4}\\D*\\)', row)\n",
    "    if match:\n",
    "        return int(re.search('\\d{4}', match[0])[0])\n",
    "    return 0"
   ]
  },
  {
   "cell_type": "code",
   "execution_count": 447,
   "metadata": {},
   "outputs": [],
   "source": [
    "movies['year'] = movies['title'].apply(extract_year)"
   ]
  },
  {
   "cell_type": "code",
   "execution_count": 448,
   "metadata": {},
   "outputs": [
    {
     "data": {
      "text/plain": [
       "array([1995, 1994, 1996, 1976, 1992, 1964, 1977, 1993, 1982, 1990, 1991,\n",
       "       1989, 1937, 1940, 1970, 1955, 1959, 1972, 1952, 1951, 1961, 1958,\n",
       "       1954, 1934, 1944, 1960, 1963, 1942, 1941, 1953, 1939, 1950, 1968,\n",
       "       1946, 1945, 1938, 1947, 1935, 1936, 1956, 1932, 1969, 1981, 1965,\n",
       "       1988, 1979, 1967, 1987, 1986, 1975, 1980, 1957, 1966, 1962, 1971,\n",
       "       1983, 1949, 1985, 1974, 1984, 1973, 1948, 1931, 1978, 1922, 1997,\n",
       "       1998, 1943, 1999, 2000, 1928, 1921, 1925, 1933, 2001, 1926, 1930,\n",
       "       2002, 2003, 2004, 1923, 1927, 1924, 1929, 2005, 2006, 2007, 2008,\n",
       "       2009, 2010, 2011, 2012, 2013, 2014, 2015, 2018, 2017, 2016,    0])"
      ]
     },
     "execution_count": 448,
     "metadata": {},
     "output_type": "execute_result"
    }
   ],
   "source": [
    "movies['year'].unique()"
   ]
  },
  {
   "cell_type": "code",
   "execution_count": 449,
   "metadata": {},
   "outputs": [
    {
     "data": {
      "text/html": [
       "<div>\n",
       "<style scoped>\n",
       "    .dataframe tbody tr th:only-of-type {\n",
       "        vertical-align: middle;\n",
       "    }\n",
       "\n",
       "    .dataframe tbody tr th {\n",
       "        vertical-align: top;\n",
       "    }\n",
       "\n",
       "    .dataframe thead th {\n",
       "        text-align: right;\n",
       "    }\n",
       "</style>\n",
       "<table border=\"1\" class=\"dataframe\">\n",
       "  <thead>\n",
       "    <tr style=\"text-align: right;\">\n",
       "      <th></th>\n",
       "      <th>movieId</th>\n",
       "      <th>title</th>\n",
       "      <th>genres</th>\n",
       "      <th>rating_count</th>\n",
       "      <th>mean_rating</th>\n",
       "      <th>movie_normed_mean_rating</th>\n",
       "      <th>num_of_tags</th>\n",
       "      <th>tags</th>\n",
       "      <th>year</th>\n",
       "    </tr>\n",
       "  </thead>\n",
       "  <tbody>\n",
       "    <tr>\n",
       "      <th>9259</th>\n",
       "      <td>156605</td>\n",
       "      <td>Paterson</td>\n",
       "      <td>(no genres listed)</td>\n",
       "      <td>1</td>\n",
       "      <td>4.5</td>\n",
       "      <td>-0.371801</td>\n",
       "      <td>3</td>\n",
       "      <td>quirky sweet understated</td>\n",
       "      <td>0</td>\n",
       "    </tr>\n",
       "  </tbody>\n",
       "</table>\n",
       "</div>"
      ],
      "text/plain": [
       "      movieId     title              genres  rating_count  mean_rating  \\\n",
       "9259   156605  Paterson  (no genres listed)             1          4.5   \n",
       "\n",
       "      movie_normed_mean_rating  num_of_tags                      tags  year  \n",
       "9259                 -0.371801            3  quirky sweet understated     0  "
      ]
     },
     "execution_count": 449,
     "metadata": {},
     "output_type": "execute_result"
    }
   ],
   "source": [
    "movies[movies['year']==0]"
   ]
  },
  {
   "cell_type": "code",
   "execution_count": 450,
   "metadata": {},
   "outputs": [],
   "source": [
    "movies['genres'] = movies['genres'].str.lower().str.replace('|', ' ')"
   ]
  },
  {
   "cell_type": "code",
   "execution_count": 451,
   "metadata": {},
   "outputs": [
    {
     "data": {
      "text/html": [
       "<div>\n",
       "<style scoped>\n",
       "    .dataframe tbody tr th:only-of-type {\n",
       "        vertical-align: middle;\n",
       "    }\n",
       "\n",
       "    .dataframe tbody tr th {\n",
       "        vertical-align: top;\n",
       "    }\n",
       "\n",
       "    .dataframe thead th {\n",
       "        text-align: right;\n",
       "    }\n",
       "</style>\n",
       "<table border=\"1\" class=\"dataframe\">\n",
       "  <thead>\n",
       "    <tr style=\"text-align: right;\">\n",
       "      <th></th>\n",
       "      <th>movieId</th>\n",
       "      <th>title</th>\n",
       "      <th>genres</th>\n",
       "      <th>rating_count</th>\n",
       "      <th>mean_rating</th>\n",
       "      <th>movie_normed_mean_rating</th>\n",
       "      <th>num_of_tags</th>\n",
       "      <th>tags</th>\n",
       "      <th>year</th>\n",
       "    </tr>\n",
       "  </thead>\n",
       "  <tbody>\n",
       "    <tr>\n",
       "      <th>0</th>\n",
       "      <td>1</td>\n",
       "      <td>Toy Story (1995)</td>\n",
       "      <td>adventure animation children comedy fantasy</td>\n",
       "      <td>215</td>\n",
       "      <td>3.920930</td>\n",
       "      <td>6.584792</td>\n",
       "      <td>3</td>\n",
       "      <td>pixar pixar fun</td>\n",
       "      <td>1995</td>\n",
       "    </tr>\n",
       "    <tr>\n",
       "      <th>1</th>\n",
       "      <td>2</td>\n",
       "      <td>Jumanji (1995)</td>\n",
       "      <td>adventure children fantasy</td>\n",
       "      <td>110</td>\n",
       "      <td>3.431818</td>\n",
       "      <td>2.674611</td>\n",
       "      <td>4</td>\n",
       "      <td>fantasy magic board game robin williams game</td>\n",
       "      <td>1995</td>\n",
       "    </tr>\n",
       "    <tr>\n",
       "      <th>2</th>\n",
       "      <td>3</td>\n",
       "      <td>Grumpier Old Men (1995)</td>\n",
       "      <td>comedy romance</td>\n",
       "      <td>52</td>\n",
       "      <td>3.259615</td>\n",
       "      <td>0.977352</td>\n",
       "      <td>2</td>\n",
       "      <td>moldy old</td>\n",
       "      <td>1995</td>\n",
       "    </tr>\n",
       "    <tr>\n",
       "      <th>4</th>\n",
       "      <td>5</td>\n",
       "      <td>Father of the Bride Part II (1995)</td>\n",
       "      <td>comedy</td>\n",
       "      <td>49</td>\n",
       "      <td>3.071429</td>\n",
       "      <td>0.748352</td>\n",
       "      <td>2</td>\n",
       "      <td>pregnancy remake</td>\n",
       "      <td>1995</td>\n",
       "    </tr>\n",
       "    <tr>\n",
       "      <th>6</th>\n",
       "      <td>7</td>\n",
       "      <td>Sabrina (1995)</td>\n",
       "      <td>comedy romance</td>\n",
       "      <td>54</td>\n",
       "      <td>3.185185</td>\n",
       "      <td>0.947953</td>\n",
       "      <td>1</td>\n",
       "      <td>remake</td>\n",
       "      <td>1995</td>\n",
       "    </tr>\n",
       "  </tbody>\n",
       "</table>\n",
       "</div>"
      ],
      "text/plain": [
       "   movieId                               title  \\\n",
       "0        1                    Toy Story (1995)   \n",
       "1        2                      Jumanji (1995)   \n",
       "2        3             Grumpier Old Men (1995)   \n",
       "4        5  Father of the Bride Part II (1995)   \n",
       "6        7                      Sabrina (1995)   \n",
       "\n",
       "                                        genres  rating_count  mean_rating  \\\n",
       "0  adventure animation children comedy fantasy           215     3.920930   \n",
       "1                   adventure children fantasy           110     3.431818   \n",
       "2                               comedy romance            52     3.259615   \n",
       "4                                       comedy            49     3.071429   \n",
       "6                               comedy romance            54     3.185185   \n",
       "\n",
       "   movie_normed_mean_rating  num_of_tags  \\\n",
       "0                  6.584792            3   \n",
       "1                  2.674611            4   \n",
       "2                  0.977352            2   \n",
       "4                  0.748352            2   \n",
       "6                  0.947953            1   \n",
       "\n",
       "                                           tags  year  \n",
       "0                               pixar pixar fun  1995  \n",
       "1  fantasy magic board game robin williams game  1995  \n",
       "2                                     moldy old  1995  \n",
       "4                              pregnancy remake  1995  \n",
       "6                                        remake  1995  "
      ]
     },
     "execution_count": 451,
     "metadata": {},
     "output_type": "execute_result"
    }
   ],
   "source": [
    "movies.head()"
   ]
  },
  {
   "cell_type": "code",
   "execution_count": 452,
   "metadata": {},
   "outputs": [],
   "source": [
    "from sklearn.feature_extraction.text import TfidfVectorizer"
   ]
  },
  {
   "cell_type": "code",
   "execution_count": 453,
   "metadata": {},
   "outputs": [],
   "source": [
    "corpus_1 = movies['genres']\n",
    "corpus_2 = movies['tags']\n",
    "vectorizer_1 = TfidfVectorizer()\n",
    "vectorizer_2 = TfidfVectorizer()\n",
    "X1 = vectorizer_1.fit_transform(corpus_1)\n",
    "X2 = vectorizer_2.fit_transform(corpus_2)"
   ]
  },
  {
   "cell_type": "code",
   "execution_count": 454,
   "metadata": {},
   "outputs": [],
   "source": [
    "from scipy.sparse import csr_matrix, hstack"
   ]
  },
  {
   "cell_type": "code",
   "execution_count": 455,
   "metadata": {},
   "outputs": [],
   "source": [
    "X3 = csr_matrix(movies.drop(['genres', 'tags'], axis=1).iloc[:,2:].values)"
   ]
  },
  {
   "cell_type": "code",
   "execution_count": 456,
   "metadata": {},
   "outputs": [
    {
     "data": {
      "text/plain": [
       "((1554, 24), (1554, 1742), (1554, 5))"
      ]
     },
     "execution_count": 456,
     "metadata": {},
     "output_type": "execute_result"
    }
   ],
   "source": [
    "X1.shape, X2.shape, X3.shape"
   ]
  },
  {
   "cell_type": "code",
   "execution_count": 457,
   "metadata": {},
   "outputs": [],
   "source": [
    "X = hstack([X1, X2, X3])"
   ]
  },
  {
   "cell_type": "code",
   "execution_count": 458,
   "metadata": {},
   "outputs": [],
   "source": [
    "from sklearn.preprocessing import MaxAbsScaler"
   ]
  },
  {
   "cell_type": "code",
   "execution_count": 459,
   "metadata": {},
   "outputs": [],
   "source": [
    "# проведем масштабирование данных с помощью MaxAbsScaler (чтобы матрица данных осталась разреженной)\n",
    "scaler = MaxAbsScaler()\n",
    "X_sc = scaler.fit_transform(X)"
   ]
  },
  {
   "cell_type": "code",
   "execution_count": 460,
   "metadata": {},
   "outputs": [],
   "source": [
    "movies.reset_index(drop=True, inplace=True)"
   ]
  },
  {
   "cell_type": "code",
   "execution_count": 461,
   "metadata": {},
   "outputs": [
    {
     "data": {
      "text/html": [
       "<div>\n",
       "<style scoped>\n",
       "    .dataframe tbody tr th:only-of-type {\n",
       "        vertical-align: middle;\n",
       "    }\n",
       "\n",
       "    .dataframe tbody tr th {\n",
       "        vertical-align: top;\n",
       "    }\n",
       "\n",
       "    .dataframe thead th {\n",
       "        text-align: right;\n",
       "    }\n",
       "</style>\n",
       "<table border=\"1\" class=\"dataframe\">\n",
       "  <thead>\n",
       "    <tr style=\"text-align: right;\">\n",
       "      <th></th>\n",
       "      <th>movieId</th>\n",
       "      <th>title</th>\n",
       "      <th>genres</th>\n",
       "      <th>rating_count</th>\n",
       "      <th>mean_rating</th>\n",
       "      <th>movie_normed_mean_rating</th>\n",
       "      <th>num_of_tags</th>\n",
       "      <th>tags</th>\n",
       "      <th>year</th>\n",
       "    </tr>\n",
       "  </thead>\n",
       "  <tbody>\n",
       "    <tr>\n",
       "      <th>83</th>\n",
       "      <td>318</td>\n",
       "      <td>Shawshank Redemption, The (1994)</td>\n",
       "      <td>crime drama</td>\n",
       "      <td>317</td>\n",
       "      <td>4.429022</td>\n",
       "      <td>11.620828</td>\n",
       "      <td>4</td>\n",
       "      <td>prison stephen king wrongful imprisonment morg...</td>\n",
       "      <td>1994</td>\n",
       "    </tr>\n",
       "    <tr>\n",
       "      <th>94</th>\n",
       "      <td>356</td>\n",
       "      <td>Forrest Gump (1994)</td>\n",
       "      <td>comedy drama romance war</td>\n",
       "      <td>329</td>\n",
       "      <td>4.164134</td>\n",
       "      <td>11.159282</td>\n",
       "      <td>9</td>\n",
       "      <td>shrimp vietnam bubba gump shrimp lieutenant da...</td>\n",
       "      <td>1994</td>\n",
       "    </tr>\n",
       "    <tr>\n",
       "      <th>77</th>\n",
       "      <td>296</td>\n",
       "      <td>Pulp Fiction (1994)</td>\n",
       "      <td>comedy crime drama thriller</td>\n",
       "      <td>307</td>\n",
       "      <td>4.197068</td>\n",
       "      <td>10.375570</td>\n",
       "      <td>181</td>\n",
       "      <td>good dialogue great soundtrack non-linear cult...</td>\n",
       "      <td>1994</td>\n",
       "    </tr>\n",
       "    <tr>\n",
       "      <th>577</th>\n",
       "      <td>2571</td>\n",
       "      <td>Matrix, The (1999)</td>\n",
       "      <td>action sci-fi thriller</td>\n",
       "      <td>278</td>\n",
       "      <td>4.192446</td>\n",
       "      <td>9.505250</td>\n",
       "      <td>5</td>\n",
       "      <td>martial arts sci-fi alternate universe philoso...</td>\n",
       "      <td>1999</td>\n",
       "    </tr>\n",
       "    <tr>\n",
       "      <th>146</th>\n",
       "      <td>593</td>\n",
       "      <td>Silence of the Lambs, The (1991)</td>\n",
       "      <td>crime horror thriller</td>\n",
       "      <td>279</td>\n",
       "      <td>4.161290</td>\n",
       "      <td>9.455111</td>\n",
       "      <td>6</td>\n",
       "      <td>hannibal lector disturbing drama gothic psycho...</td>\n",
       "      <td>1991</td>\n",
       "    </tr>\n",
       "    <tr>\n",
       "      <th>65</th>\n",
       "      <td>260</td>\n",
       "      <td>Star Wars: Episode IV - A New Hope (1977)</td>\n",
       "      <td>action adventure sci-fi</td>\n",
       "      <td>251</td>\n",
       "      <td>4.231076</td>\n",
       "      <td>8.634377</td>\n",
       "      <td>26</td>\n",
       "      <td>classic space action action sci-fi epic great ...</td>\n",
       "      <td>1977</td>\n",
       "    </tr>\n",
       "    <tr>\n",
       "      <th>637</th>\n",
       "      <td>2959</td>\n",
       "      <td>Fight Club (1999)</td>\n",
       "      <td>action crime drama thriller</td>\n",
       "      <td>218</td>\n",
       "      <td>4.272936</td>\n",
       "      <td>7.568651</td>\n",
       "      <td>54</td>\n",
       "      <td>dark comedy psychology thought-provoking twist...</td>\n",
       "      <td>1999</td>\n",
       "    </tr>\n",
       "    <tr>\n",
       "      <th>36</th>\n",
       "      <td>110</td>\n",
       "      <td>Braveheart (1995)</td>\n",
       "      <td>action drama war</td>\n",
       "      <td>237</td>\n",
       "      <td>4.031646</td>\n",
       "      <td>7.554489</td>\n",
       "      <td>10</td>\n",
       "      <td>beautiful scenery epic historical inspirationa...</td>\n",
       "      <td>1995</td>\n",
       "    </tr>\n",
       "    <tr>\n",
       "      <th>126</th>\n",
       "      <td>527</td>\n",
       "      <td>Schindler's List (1993)</td>\n",
       "      <td>drama war</td>\n",
       "      <td>220</td>\n",
       "      <td>4.225000</td>\n",
       "      <td>7.489698</td>\n",
       "      <td>7</td>\n",
       "      <td>moving thought-provoking holocaust based on a ...</td>\n",
       "      <td>1993</td>\n",
       "    </tr>\n",
       "    <tr>\n",
       "      <th>287</th>\n",
       "      <td>1196</td>\n",
       "      <td>Star Wars: Episode V - The Empire Strikes Back...</td>\n",
       "      <td>action adventure sci-fi</td>\n",
       "      <td>211</td>\n",
       "      <td>4.215640</td>\n",
       "      <td>7.155559</td>\n",
       "      <td>10</td>\n",
       "      <td>i am your father space space opera classic geo...</td>\n",
       "      <td>1980</td>\n",
       "    </tr>\n",
       "  </tbody>\n",
       "</table>\n",
       "</div>"
      ],
      "text/plain": [
       "     movieId                                              title  \\\n",
       "83       318                   Shawshank Redemption, The (1994)   \n",
       "94       356                                Forrest Gump (1994)   \n",
       "77       296                                Pulp Fiction (1994)   \n",
       "577     2571                                 Matrix, The (1999)   \n",
       "146      593                   Silence of the Lambs, The (1991)   \n",
       "65       260          Star Wars: Episode IV - A New Hope (1977)   \n",
       "637     2959                                  Fight Club (1999)   \n",
       "36       110                                  Braveheart (1995)   \n",
       "126      527                            Schindler's List (1993)   \n",
       "287     1196  Star Wars: Episode V - The Empire Strikes Back...   \n",
       "\n",
       "                          genres  rating_count  mean_rating  \\\n",
       "83                   crime drama           317     4.429022   \n",
       "94      comedy drama romance war           329     4.164134   \n",
       "77   comedy crime drama thriller           307     4.197068   \n",
       "577       action sci-fi thriller           278     4.192446   \n",
       "146        crime horror thriller           279     4.161290   \n",
       "65       action adventure sci-fi           251     4.231076   \n",
       "637  action crime drama thriller           218     4.272936   \n",
       "36              action drama war           237     4.031646   \n",
       "126                    drama war           220     4.225000   \n",
       "287      action adventure sci-fi           211     4.215640   \n",
       "\n",
       "     movie_normed_mean_rating  num_of_tags  \\\n",
       "83                  11.620828            4   \n",
       "94                  11.159282            9   \n",
       "77                  10.375570          181   \n",
       "577                  9.505250            5   \n",
       "146                  9.455111            6   \n",
       "65                   8.634377           26   \n",
       "637                  7.568651           54   \n",
       "36                   7.554489           10   \n",
       "126                  7.489698            7   \n",
       "287                  7.155559           10   \n",
       "\n",
       "                                                  tags  year  \n",
       "83   prison stephen king wrongful imprisonment morg...  1994  \n",
       "94   shrimp vietnam bubba gump shrimp lieutenant da...  1994  \n",
       "77   good dialogue great soundtrack non-linear cult...  1994  \n",
       "577  martial arts sci-fi alternate universe philoso...  1999  \n",
       "146  hannibal lector disturbing drama gothic psycho...  1991  \n",
       "65   classic space action action sci-fi epic great ...  1977  \n",
       "637  dark comedy psychology thought-provoking twist...  1999  \n",
       "36   beautiful scenery epic historical inspirationa...  1995  \n",
       "126  moving thought-provoking holocaust based on a ...  1993  \n",
       "287  i am your father space space opera classic geo...  1980  "
      ]
     },
     "execution_count": 461,
     "metadata": {},
     "output_type": "execute_result"
    }
   ],
   "source": [
    "# топ 100 фильмов без привязки к жанру (по нормированному рейтингу)\n",
    "top_100 = movies.sort_values('movie_normed_mean_rating', ascending=False).head(10)\n",
    "top_100.head(10)"
   ]
  },
  {
   "cell_type": "code",
   "execution_count": 138,
   "metadata": {},
   "outputs": [
    {
     "data": {
      "text/plain": [
       "array([ 65,  83, 116])"
      ]
     },
     "execution_count": 138,
     "metadata": {},
     "output_type": "execute_result"
    }
   ],
   "source": [
    "# выберем случайным образом среди топ 100 - 3 фильма и найдем наиболее близкие к ним\n",
    "ids = np.random.choice(top_100.index, 3)\n",
    "ids"
   ]
  },
  {
   "cell_type": "code",
   "execution_count": 462,
   "metadata": {},
   "outputs": [
    {
     "data": {
      "text/html": [
       "<div>\n",
       "<style scoped>\n",
       "    .dataframe tbody tr th:only-of-type {\n",
       "        vertical-align: middle;\n",
       "    }\n",
       "\n",
       "    .dataframe tbody tr th {\n",
       "        vertical-align: top;\n",
       "    }\n",
       "\n",
       "    .dataframe thead th {\n",
       "        text-align: right;\n",
       "    }\n",
       "</style>\n",
       "<table border=\"1\" class=\"dataframe\">\n",
       "  <thead>\n",
       "    <tr style=\"text-align: right;\">\n",
       "      <th></th>\n",
       "      <th>movieId</th>\n",
       "      <th>title</th>\n",
       "      <th>genres</th>\n",
       "      <th>rating_count</th>\n",
       "      <th>mean_rating</th>\n",
       "      <th>movie_normed_mean_rating</th>\n",
       "      <th>num_of_tags</th>\n",
       "      <th>tags</th>\n",
       "      <th>year</th>\n",
       "    </tr>\n",
       "  </thead>\n",
       "  <tbody>\n",
       "    <tr>\n",
       "      <th>65</th>\n",
       "      <td>260</td>\n",
       "      <td>Star Wars: Episode IV - A New Hope (1977)</td>\n",
       "      <td>action adventure sci-fi</td>\n",
       "      <td>251</td>\n",
       "      <td>4.231076</td>\n",
       "      <td>8.634377</td>\n",
       "      <td>26</td>\n",
       "      <td>classic space action action sci-fi epic great ...</td>\n",
       "      <td>1977</td>\n",
       "    </tr>\n",
       "    <tr>\n",
       "      <th>83</th>\n",
       "      <td>318</td>\n",
       "      <td>Shawshank Redemption, The (1994)</td>\n",
       "      <td>crime drama</td>\n",
       "      <td>317</td>\n",
       "      <td>4.429022</td>\n",
       "      <td>11.620828</td>\n",
       "      <td>4</td>\n",
       "      <td>prison stephen king wrongful imprisonment morg...</td>\n",
       "      <td>1994</td>\n",
       "    </tr>\n",
       "    <tr>\n",
       "      <th>116</th>\n",
       "      <td>480</td>\n",
       "      <td>Jurassic Park (1993)</td>\n",
       "      <td>action adventure sci-fi thriller</td>\n",
       "      <td>238</td>\n",
       "      <td>3.750000</td>\n",
       "      <td>6.860897</td>\n",
       "      <td>1</td>\n",
       "      <td>dinosaur</td>\n",
       "      <td>1993</td>\n",
       "    </tr>\n",
       "  </tbody>\n",
       "</table>\n",
       "</div>"
      ],
      "text/plain": [
       "     movieId                                      title  \\\n",
       "65       260  Star Wars: Episode IV - A New Hope (1977)   \n",
       "83       318           Shawshank Redemption, The (1994)   \n",
       "116      480                       Jurassic Park (1993)   \n",
       "\n",
       "                               genres  rating_count  mean_rating  \\\n",
       "65            action adventure sci-fi           251     4.231076   \n",
       "83                        crime drama           317     4.429022   \n",
       "116  action adventure sci-fi thriller           238     3.750000   \n",
       "\n",
       "     movie_normed_mean_rating  num_of_tags  \\\n",
       "65                   8.634377           26   \n",
       "83                  11.620828            4   \n",
       "116                  6.860897            1   \n",
       "\n",
       "                                                  tags  year  \n",
       "65   classic space action action sci-fi epic great ...  1977  \n",
       "83   prison stephen king wrongful imprisonment morg...  1994  \n",
       "116                                           dinosaur  1993  "
      ]
     },
     "execution_count": 462,
     "metadata": {},
     "output_type": "execute_result"
    }
   ],
   "source": [
    "movies.loc[ids,:]"
   ]
  },
  {
   "cell_type": "code",
   "execution_count": 463,
   "metadata": {},
   "outputs": [],
   "source": [
    "from sklearn.neighbors import NearestNeighbors"
   ]
  },
  {
   "cell_type": "code",
   "execution_count": 464,
   "metadata": {},
   "outputs": [
    {
     "data": {
      "text/plain": [
       "NearestNeighbors(algorithm='auto', leaf_size=30, metric='minkowski',\n",
       "         metric_params=None, n_jobs=-1, n_neighbors=10, p=2, radius=1.0)"
      ]
     },
     "execution_count": 464,
     "metadata": {},
     "output_type": "execute_result"
    }
   ],
   "source": [
    "knn = NearestNeighbors(n_neighbors=10, n_jobs=-1, metric='minkowski') \n",
    "knn.fit(X_sc)"
   ]
  },
  {
   "cell_type": "code",
   "execution_count": 465,
   "metadata": {},
   "outputs": [],
   "source": [
    "films = X_sc.tocsc()[ids,:]"
   ]
  },
  {
   "cell_type": "code",
   "execution_count": 466,
   "metadata": {},
   "outputs": [],
   "source": [
    "result = []\n",
    "for film in films:\n",
    "    result.append(knn.kneighbors(film, return_distance=True))"
   ]
  },
  {
   "cell_type": "code",
   "execution_count": 467,
   "metadata": {},
   "outputs": [
    {
     "data": {
      "text/html": [
       "<div>\n",
       "<style scoped>\n",
       "    .dataframe tbody tr th:only-of-type {\n",
       "        vertical-align: middle;\n",
       "    }\n",
       "\n",
       "    .dataframe tbody tr th {\n",
       "        vertical-align: top;\n",
       "    }\n",
       "\n",
       "    .dataframe thead th {\n",
       "        text-align: right;\n",
       "    }\n",
       "</style>\n",
       "<table border=\"1\" class=\"dataframe\">\n",
       "  <thead>\n",
       "    <tr style=\"text-align: right;\">\n",
       "      <th></th>\n",
       "      <th>movieId</th>\n",
       "      <th>title</th>\n",
       "      <th>genres</th>\n",
       "      <th>rating_count</th>\n",
       "      <th>mean_rating</th>\n",
       "      <th>movie_normed_mean_rating</th>\n",
       "      <th>num_of_tags</th>\n",
       "      <th>tags</th>\n",
       "      <th>year</th>\n",
       "    </tr>\n",
       "  </thead>\n",
       "  <tbody>\n",
       "    <tr>\n",
       "      <th>1299</th>\n",
       "      <td>33493</td>\n",
       "      <td>Star Wars: Episode III - Revenge of the Sith (...</td>\n",
       "      <td>action adventure sci-fi</td>\n",
       "      <td>78</td>\n",
       "      <td>3.429487</td>\n",
       "      <td>1.909589</td>\n",
       "      <td>2</td>\n",
       "      <td>space space opera</td>\n",
       "      <td>2005</td>\n",
       "    </tr>\n",
       "    <tr>\n",
       "      <th>116</th>\n",
       "      <td>480</td>\n",
       "      <td>Jurassic Park (1993)</td>\n",
       "      <td>action adventure sci-fi thriller</td>\n",
       "      <td>238</td>\n",
       "      <td>3.750000</td>\n",
       "      <td>6.860897</td>\n",
       "      <td>1</td>\n",
       "      <td>dinosaur</td>\n",
       "      <td>1993</td>\n",
       "    </tr>\n",
       "    <tr>\n",
       "      <th>449</th>\n",
       "      <td>1917</td>\n",
       "      <td>Armageddon (1998)</td>\n",
       "      <td>action romance sci-fi thriller</td>\n",
       "      <td>92</td>\n",
       "      <td>3.054348</td>\n",
       "      <td>1.927614</td>\n",
       "      <td>1</td>\n",
       "      <td>space</td>\n",
       "      <td>1998</td>\n",
       "    </tr>\n",
       "    <tr>\n",
       "      <th>171</th>\n",
       "      <td>780</td>\n",
       "      <td>Independence Day (a.k.a. ID4) (1996)</td>\n",
       "      <td>action adventure sci-fi thriller</td>\n",
       "      <td>202</td>\n",
       "      <td>3.445545</td>\n",
       "      <td>5.177877</td>\n",
       "      <td>1</td>\n",
       "      <td>aliens</td>\n",
       "      <td>1996</td>\n",
       "    </tr>\n",
       "    <tr>\n",
       "      <th>821</th>\n",
       "      <td>4446</td>\n",
       "      <td>Final Fantasy: The Spirits Within (2001)</td>\n",
       "      <td>adventure animation fantasy sci-fi</td>\n",
       "      <td>31</td>\n",
       "      <td>3.354839</td>\n",
       "      <td>0.574179</td>\n",
       "      <td>1</td>\n",
       "      <td>sci-fi</td>\n",
       "      <td>2001</td>\n",
       "    </tr>\n",
       "    <tr>\n",
       "      <th>290</th>\n",
       "      <td>1200</td>\n",
       "      <td>Aliens (1986)</td>\n",
       "      <td>action adventure horror sci-fi</td>\n",
       "      <td>126</td>\n",
       "      <td>3.964286</td>\n",
       "      <td>3.846565</td>\n",
       "      <td>9</td>\n",
       "      <td>action aliens horror sci-fi space space craft ...</td>\n",
       "      <td>1986</td>\n",
       "    </tr>\n",
       "    <tr>\n",
       "      <th>892</th>\n",
       "      <td>5349</td>\n",
       "      <td>Spider-Man (2002)</td>\n",
       "      <td>action adventure sci-fi thriller</td>\n",
       "      <td>122</td>\n",
       "      <td>3.540984</td>\n",
       "      <td>3.214600</td>\n",
       "      <td>1</td>\n",
       "      <td>superhero</td>\n",
       "      <td>2002</td>\n",
       "    </tr>\n",
       "    <tr>\n",
       "      <th>409</th>\n",
       "      <td>1580</td>\n",
       "      <td>Men in Black (a.k.a. MIB) (1997)</td>\n",
       "      <td>action comedy sci-fi</td>\n",
       "      <td>165</td>\n",
       "      <td>3.487879</td>\n",
       "      <td>4.326251</td>\n",
       "      <td>1</td>\n",
       "      <td>aliens</td>\n",
       "      <td>1997</td>\n",
       "    </tr>\n",
       "    <tr>\n",
       "      <th>592</th>\n",
       "      <td>2662</td>\n",
       "      <td>War of the Worlds, The (1953)</td>\n",
       "      <td>action drama sci-fi</td>\n",
       "      <td>12</td>\n",
       "      <td>3.166667</td>\n",
       "      <td>0.038998</td>\n",
       "      <td>1</td>\n",
       "      <td>classic</td>\n",
       "      <td>1953</td>\n",
       "    </tr>\n",
       "  </tbody>\n",
       "</table>\n",
       "</div>"
      ],
      "text/plain": [
       "      movieId                                              title  \\\n",
       "1299    33493  Star Wars: Episode III - Revenge of the Sith (...   \n",
       "116       480                               Jurassic Park (1993)   \n",
       "449      1917                                  Armageddon (1998)   \n",
       "171       780               Independence Day (a.k.a. ID4) (1996)   \n",
       "821      4446           Final Fantasy: The Spirits Within (2001)   \n",
       "290      1200                                      Aliens (1986)   \n",
       "892      5349                                  Spider-Man (2002)   \n",
       "409      1580                   Men in Black (a.k.a. MIB) (1997)   \n",
       "592      2662                      War of the Worlds, The (1953)   \n",
       "\n",
       "                                  genres  rating_count  mean_rating  \\\n",
       "1299             action adventure sci-fi            78     3.429487   \n",
       "116     action adventure sci-fi thriller           238     3.750000   \n",
       "449       action romance sci-fi thriller            92     3.054348   \n",
       "171     action adventure sci-fi thriller           202     3.445545   \n",
       "821   adventure animation fantasy sci-fi            31     3.354839   \n",
       "290       action adventure horror sci-fi           126     3.964286   \n",
       "892     action adventure sci-fi thriller           122     3.540984   \n",
       "409                 action comedy sci-fi           165     3.487879   \n",
       "592                  action drama sci-fi            12     3.166667   \n",
       "\n",
       "      movie_normed_mean_rating  num_of_tags  \\\n",
       "1299                  1.909589            2   \n",
       "116                   6.860897            1   \n",
       "449                   1.927614            1   \n",
       "171                   5.177877            1   \n",
       "821                   0.574179            1   \n",
       "290                   3.846565            9   \n",
       "892                   3.214600            1   \n",
       "409                   4.326251            1   \n",
       "592                   0.038998            1   \n",
       "\n",
       "                                                   tags  year  \n",
       "1299                                  space space opera  2005  \n",
       "116                                            dinosaur  1993  \n",
       "449                                               space  1998  \n",
       "171                                              aliens  1996  \n",
       "821                                              sci-fi  2001  \n",
       "290   action aliens horror sci-fi space space craft ...  1986  \n",
       "892                                           superhero  2002  \n",
       "409                                              aliens  1997  \n",
       "592                                             classic  1953  "
      ]
     },
     "execution_count": 467,
     "metadata": {},
     "output_type": "execute_result"
    }
   ],
   "source": [
    "# Рекомендации по фильму Star Wars: Episode IV - A New Hope (1977)\n",
    "movies.loc[result[0][1][0][1:],:]"
   ]
  },
  {
   "cell_type": "code",
   "execution_count": 468,
   "metadata": {},
   "outputs": [
    {
     "data": {
      "text/html": [
       "<div>\n",
       "<style scoped>\n",
       "    .dataframe tbody tr th:only-of-type {\n",
       "        vertical-align: middle;\n",
       "    }\n",
       "\n",
       "    .dataframe tbody tr th {\n",
       "        vertical-align: top;\n",
       "    }\n",
       "\n",
       "    .dataframe thead th {\n",
       "        text-align: right;\n",
       "    }\n",
       "</style>\n",
       "<table border=\"1\" class=\"dataframe\">\n",
       "  <thead>\n",
       "    <tr style=\"text-align: right;\">\n",
       "      <th></th>\n",
       "      <th>movieId</th>\n",
       "      <th>title</th>\n",
       "      <th>genres</th>\n",
       "      <th>rating_count</th>\n",
       "      <th>mean_rating</th>\n",
       "      <th>movie_normed_mean_rating</th>\n",
       "      <th>num_of_tags</th>\n",
       "      <th>tags</th>\n",
       "      <th>year</th>\n",
       "    </tr>\n",
       "  </thead>\n",
       "  <tbody>\n",
       "    <tr>\n",
       "      <th>669</th>\n",
       "      <td>3147</td>\n",
       "      <td>Green Mile, The (1999)</td>\n",
       "      <td>crime drama</td>\n",
       "      <td>111</td>\n",
       "      <td>4.148649</td>\n",
       "      <td>3.555713</td>\n",
       "      <td>1</td>\n",
       "      <td>stephen king</td>\n",
       "      <td>1999</td>\n",
       "    </tr>\n",
       "    <tr>\n",
       "      <th>180</th>\n",
       "      <td>858</td>\n",
       "      <td>Godfather, The (1972)</td>\n",
       "      <td>crime drama</td>\n",
       "      <td>192</td>\n",
       "      <td>4.289062</td>\n",
       "      <td>6.632262</td>\n",
       "      <td>1</td>\n",
       "      <td>mafia</td>\n",
       "      <td>1972</td>\n",
       "    </tr>\n",
       "    <tr>\n",
       "      <th>300</th>\n",
       "      <td>1213</td>\n",
       "      <td>Goodfellas (1990)</td>\n",
       "      <td>crime drama</td>\n",
       "      <td>126</td>\n",
       "      <td>4.250000</td>\n",
       "      <td>4.192264</td>\n",
       "      <td>1</td>\n",
       "      <td>mafia</td>\n",
       "      <td>1990</td>\n",
       "    </tr>\n",
       "    <tr>\n",
       "      <th>305</th>\n",
       "      <td>1221</td>\n",
       "      <td>Godfather: Part II, The (1974)</td>\n",
       "      <td>crime drama</td>\n",
       "      <td>129</td>\n",
       "      <td>4.259690</td>\n",
       "      <td>4.288847</td>\n",
       "      <td>3</td>\n",
       "      <td>al pacino mafia mafia</td>\n",
       "      <td>1974</td>\n",
       "    </tr>\n",
       "    <tr>\n",
       "      <th>7</th>\n",
       "      <td>16</td>\n",
       "      <td>Casino (1995)</td>\n",
       "      <td>crime drama</td>\n",
       "      <td>82</td>\n",
       "      <td>3.926829</td>\n",
       "      <td>2.365961</td>\n",
       "      <td>1</td>\n",
       "      <td>mafia</td>\n",
       "      <td>1995</td>\n",
       "    </tr>\n",
       "    <tr>\n",
       "      <th>37</th>\n",
       "      <td>111</td>\n",
       "      <td>Taxi Driver (1976)</td>\n",
       "      <td>crime drama thriller</td>\n",
       "      <td>104</td>\n",
       "      <td>4.105769</td>\n",
       "      <td>3.213934</td>\n",
       "      <td>1</td>\n",
       "      <td>assassination</td>\n",
       "      <td>1976</td>\n",
       "    </tr>\n",
       "    <tr>\n",
       "      <th>1298</th>\n",
       "      <td>33166</td>\n",
       "      <td>Crash (2004)</td>\n",
       "      <td>crime drama</td>\n",
       "      <td>50</td>\n",
       "      <td>3.890000</td>\n",
       "      <td>1.307510</td>\n",
       "      <td>1</td>\n",
       "      <td>racism</td>\n",
       "      <td>2004</td>\n",
       "    </tr>\n",
       "    <tr>\n",
       "      <th>397</th>\n",
       "      <td>1466</td>\n",
       "      <td>Donnie Brasco (1997)</td>\n",
       "      <td>crime drama</td>\n",
       "      <td>52</td>\n",
       "      <td>3.740385</td>\n",
       "      <td>1.260892</td>\n",
       "      <td>1</td>\n",
       "      <td>mafia</td>\n",
       "      <td>1997</td>\n",
       "    </tr>\n",
       "    <tr>\n",
       "      <th>864</th>\n",
       "      <td>4963</td>\n",
       "      <td>Ocean's Eleven (2001)</td>\n",
       "      <td>crime thriller</td>\n",
       "      <td>119</td>\n",
       "      <td>3.844538</td>\n",
       "      <td>3.472857</td>\n",
       "      <td>1</td>\n",
       "      <td>heist</td>\n",
       "      <td>2001</td>\n",
       "    </tr>\n",
       "  </tbody>\n",
       "</table>\n",
       "</div>"
      ],
      "text/plain": [
       "      movieId                           title                genres  \\\n",
       "669      3147          Green Mile, The (1999)           crime drama   \n",
       "180       858           Godfather, The (1972)           crime drama   \n",
       "300      1213               Goodfellas (1990)           crime drama   \n",
       "305      1221  Godfather: Part II, The (1974)           crime drama   \n",
       "7          16                   Casino (1995)           crime drama   \n",
       "37        111              Taxi Driver (1976)  crime drama thriller   \n",
       "1298    33166                    Crash (2004)           crime drama   \n",
       "397      1466            Donnie Brasco (1997)           crime drama   \n",
       "864      4963           Ocean's Eleven (2001)        crime thriller   \n",
       "\n",
       "      rating_count  mean_rating  movie_normed_mean_rating  num_of_tags  \\\n",
       "669            111     4.148649                  3.555713            1   \n",
       "180            192     4.289062                  6.632262            1   \n",
       "300            126     4.250000                  4.192264            1   \n",
       "305            129     4.259690                  4.288847            3   \n",
       "7               82     3.926829                  2.365961            1   \n",
       "37             104     4.105769                  3.213934            1   \n",
       "1298            50     3.890000                  1.307510            1   \n",
       "397             52     3.740385                  1.260892            1   \n",
       "864            119     3.844538                  3.472857            1   \n",
       "\n",
       "                       tags  year  \n",
       "669            stephen king  1999  \n",
       "180                   mafia  1972  \n",
       "300                   mafia  1990  \n",
       "305   al pacino mafia mafia  1974  \n",
       "7                     mafia  1995  \n",
       "37            assassination  1976  \n",
       "1298                 racism  2004  \n",
       "397                   mafia  1997  \n",
       "864                   heist  2001  "
      ]
     },
     "execution_count": 468,
     "metadata": {},
     "output_type": "execute_result"
    }
   ],
   "source": [
    "# Рекомендации по фильму Shawshank Redemption, The (1994)\n",
    "movies.loc[result[1][1][0][1:],:]"
   ]
  },
  {
   "cell_type": "code",
   "execution_count": 469,
   "metadata": {},
   "outputs": [
    {
     "data": {
      "text/html": [
       "<div>\n",
       "<style scoped>\n",
       "    .dataframe tbody tr th:only-of-type {\n",
       "        vertical-align: middle;\n",
       "    }\n",
       "\n",
       "    .dataframe tbody tr th {\n",
       "        vertical-align: top;\n",
       "    }\n",
       "\n",
       "    .dataframe thead th {\n",
       "        text-align: right;\n",
       "    }\n",
       "</style>\n",
       "<table border=\"1\" class=\"dataframe\">\n",
       "  <thead>\n",
       "    <tr style=\"text-align: right;\">\n",
       "      <th></th>\n",
       "      <th>movieId</th>\n",
       "      <th>title</th>\n",
       "      <th>genres</th>\n",
       "      <th>rating_count</th>\n",
       "      <th>mean_rating</th>\n",
       "      <th>movie_normed_mean_rating</th>\n",
       "      <th>num_of_tags</th>\n",
       "      <th>tags</th>\n",
       "      <th>year</th>\n",
       "    </tr>\n",
       "  </thead>\n",
       "  <tbody>\n",
       "    <tr>\n",
       "      <th>171</th>\n",
       "      <td>780</td>\n",
       "      <td>Independence Day (a.k.a. ID4) (1996)</td>\n",
       "      <td>action adventure sci-fi thriller</td>\n",
       "      <td>202</td>\n",
       "      <td>3.445545</td>\n",
       "      <td>5.177877</td>\n",
       "      <td>1</td>\n",
       "      <td>aliens</td>\n",
       "      <td>1996</td>\n",
       "    </tr>\n",
       "    <tr>\n",
       "      <th>892</th>\n",
       "      <td>5349</td>\n",
       "      <td>Spider-Man (2002)</td>\n",
       "      <td>action adventure sci-fi thriller</td>\n",
       "      <td>122</td>\n",
       "      <td>3.540984</td>\n",
       "      <td>3.214600</td>\n",
       "      <td>1</td>\n",
       "      <td>superhero</td>\n",
       "      <td>2002</td>\n",
       "    </tr>\n",
       "    <tr>\n",
       "      <th>369</th>\n",
       "      <td>1356</td>\n",
       "      <td>Star Trek: First Contact (1996)</td>\n",
       "      <td>action adventure sci-fi thriller</td>\n",
       "      <td>91</td>\n",
       "      <td>3.879121</td>\n",
       "      <td>2.548602</td>\n",
       "      <td>1</td>\n",
       "      <td>borg</td>\n",
       "      <td>1996</td>\n",
       "    </tr>\n",
       "    <tr>\n",
       "      <th>405</th>\n",
       "      <td>1544</td>\n",
       "      <td>Lost World: Jurassic Park, The (1997)</td>\n",
       "      <td>action adventure sci-fi thriller</td>\n",
       "      <td>67</td>\n",
       "      <td>2.753731</td>\n",
       "      <td>1.164216</td>\n",
       "      <td>1</td>\n",
       "      <td>dinosaurs</td>\n",
       "      <td>1997</td>\n",
       "    </tr>\n",
       "    <tr>\n",
       "      <th>409</th>\n",
       "      <td>1580</td>\n",
       "      <td>Men in Black (a.k.a. MIB) (1997)</td>\n",
       "      <td>action comedy sci-fi</td>\n",
       "      <td>165</td>\n",
       "      <td>3.487879</td>\n",
       "      <td>4.326251</td>\n",
       "      <td>1</td>\n",
       "      <td>aliens</td>\n",
       "      <td>1997</td>\n",
       "    </tr>\n",
       "    <tr>\n",
       "      <th>1443</th>\n",
       "      <td>91500</td>\n",
       "      <td>The Hunger Games (2012)</td>\n",
       "      <td>action adventure drama sci-fi thriller</td>\n",
       "      <td>54</td>\n",
       "      <td>3.435185</td>\n",
       "      <td>1.146314</td>\n",
       "      <td>1</td>\n",
       "      <td>ending</td>\n",
       "      <td>2012</td>\n",
       "    </tr>\n",
       "    <tr>\n",
       "      <th>587</th>\n",
       "      <td>2640</td>\n",
       "      <td>Superman (1978)</td>\n",
       "      <td>action adventure sci-fi</td>\n",
       "      <td>61</td>\n",
       "      <td>3.606557</td>\n",
       "      <td>1.479627</td>\n",
       "      <td>1</td>\n",
       "      <td>superhero</td>\n",
       "      <td>1978</td>\n",
       "    </tr>\n",
       "    <tr>\n",
       "      <th>841</th>\n",
       "      <td>4638</td>\n",
       "      <td>Jurassic Park III (2001)</td>\n",
       "      <td>action adventure sci-fi thriller</td>\n",
       "      <td>36</td>\n",
       "      <td>2.847222</td>\n",
       "      <td>0.577122</td>\n",
       "      <td>1</td>\n",
       "      <td>dinosaurs</td>\n",
       "      <td>2001</td>\n",
       "    </tr>\n",
       "    <tr>\n",
       "      <th>603</th>\n",
       "      <td>2716</td>\n",
       "      <td>Ghostbusters (a.k.a. Ghost Busters) (1984)</td>\n",
       "      <td>action comedy sci-fi</td>\n",
       "      <td>120</td>\n",
       "      <td>3.775000</td>\n",
       "      <td>3.434125</td>\n",
       "      <td>1</td>\n",
       "      <td>ghosts</td>\n",
       "      <td>1984</td>\n",
       "    </tr>\n",
       "  </tbody>\n",
       "</table>\n",
       "</div>"
      ],
      "text/plain": [
       "      movieId                                       title  \\\n",
       "171       780        Independence Day (a.k.a. ID4) (1996)   \n",
       "892      5349                           Spider-Man (2002)   \n",
       "369      1356             Star Trek: First Contact (1996)   \n",
       "405      1544       Lost World: Jurassic Park, The (1997)   \n",
       "409      1580            Men in Black (a.k.a. MIB) (1997)   \n",
       "1443    91500                     The Hunger Games (2012)   \n",
       "587      2640                             Superman (1978)   \n",
       "841      4638                    Jurassic Park III (2001)   \n",
       "603      2716  Ghostbusters (a.k.a. Ghost Busters) (1984)   \n",
       "\n",
       "                                      genres  rating_count  mean_rating  \\\n",
       "171         action adventure sci-fi thriller           202     3.445545   \n",
       "892         action adventure sci-fi thriller           122     3.540984   \n",
       "369         action adventure sci-fi thriller            91     3.879121   \n",
       "405         action adventure sci-fi thriller            67     2.753731   \n",
       "409                     action comedy sci-fi           165     3.487879   \n",
       "1443  action adventure drama sci-fi thriller            54     3.435185   \n",
       "587                  action adventure sci-fi            61     3.606557   \n",
       "841         action adventure sci-fi thriller            36     2.847222   \n",
       "603                     action comedy sci-fi           120     3.775000   \n",
       "\n",
       "      movie_normed_mean_rating  num_of_tags       tags  year  \n",
       "171                   5.177877            1     aliens  1996  \n",
       "892                   3.214600            1  superhero  2002  \n",
       "369                   2.548602            1       borg  1996  \n",
       "405                   1.164216            1  dinosaurs  1997  \n",
       "409                   4.326251            1     aliens  1997  \n",
       "1443                  1.146314            1     ending  2012  \n",
       "587                   1.479627            1  superhero  1978  \n",
       "841                   0.577122            1  dinosaurs  2001  \n",
       "603                   3.434125            1     ghosts  1984  "
      ]
     },
     "execution_count": 469,
     "metadata": {},
     "output_type": "execute_result"
    }
   ],
   "source": [
    "# Рекомендации по фильму Jurassic Park (1993)\n",
    "movies.loc[result[2][1][0][1:],:]"
   ]
  },
  {
   "cell_type": "markdown",
   "metadata": {},
   "source": [
    "Попробуем предсказать средние оценки фильмам из отложенной выборки"
   ]
  },
  {
   "cell_type": "code",
   "execution_count": 470,
   "metadata": {},
   "outputs": [],
   "source": [
    "X3 = csr_matrix(movies.drop(['genres', 'tags', 'mean_rating'], axis=1).iloc[:,2:].values)\n",
    "y = movies['mean_rating']"
   ]
  },
  {
   "cell_type": "code",
   "execution_count": 471,
   "metadata": {},
   "outputs": [
    {
     "data": {
      "text/plain": [
       "((1554, 24), (1554, 1742), (1554, 4), (1554,))"
      ]
     },
     "execution_count": 471,
     "metadata": {},
     "output_type": "execute_result"
    }
   ],
   "source": [
    "X1.shape, X2.shape, X3.shape, y.shape"
   ]
  },
  {
   "cell_type": "code",
   "execution_count": 472,
   "metadata": {},
   "outputs": [],
   "source": [
    "X = hstack([X1, X2, X3])"
   ]
  },
  {
   "cell_type": "code",
   "execution_count": 473,
   "metadata": {},
   "outputs": [],
   "source": [
    "from sklearn.model_selection import train_test_split"
   ]
  },
  {
   "cell_type": "code",
   "execution_count": 474,
   "metadata": {},
   "outputs": [],
   "source": [
    "X_train, X_test, y_train, y_test = train_test_split(X, y, test_size=0.2)"
   ]
  },
  {
   "cell_type": "code",
   "execution_count": 475,
   "metadata": {},
   "outputs": [],
   "source": [
    "from sklearn.preprocessing import MaxAbsScaler"
   ]
  },
  {
   "cell_type": "code",
   "execution_count": 476,
   "metadata": {},
   "outputs": [],
   "source": [
    "# проведем масштабирование данных с помощью MaxAbsScaler (чтобы матрица данных осталась разреженной)\n",
    "scaler = MaxAbsScaler()\n",
    "X_train_sc = scaler.fit_transform(X_train)\n",
    "X_test_sc = scaler.transform(X_test)"
   ]
  },
  {
   "cell_type": "code",
   "execution_count": 477,
   "metadata": {},
   "outputs": [],
   "source": [
    "from sklearn.linear_model import Lasso\n",
    "from sklearn.ensemble import RandomForestRegressor"
   ]
  },
  {
   "cell_type": "code",
   "execution_count": 478,
   "metadata": {},
   "outputs": [
    {
     "data": {
      "text/plain": [
       "RandomForestRegressor(bootstrap=True, criterion='mse', max_depth=None,\n",
       "           max_features='auto', max_leaf_nodes=None,\n",
       "           min_impurity_decrease=0.0, min_impurity_split=None,\n",
       "           min_samples_leaf=1, min_samples_split=2,\n",
       "           min_weight_fraction_leaf=0.0, n_estimators=100, n_jobs=None,\n",
       "           oob_score=False, random_state=None, verbose=0, warm_start=False)"
      ]
     },
     "execution_count": 478,
     "metadata": {},
     "output_type": "execute_result"
    }
   ],
   "source": [
    "model_lasso = Lasso()\n",
    "model_lasso.fit(X_train_sc, y_train)\n",
    "\n",
    "model_rfr = RandomForestRegressor(n_estimators=100)\n",
    "model_rfr.fit(X_train_sc, y_train)"
   ]
  },
  {
   "cell_type": "code",
   "execution_count": 479,
   "metadata": {},
   "outputs": [],
   "source": [
    "y_pred_lasso = model_lasso.predict(X_test_sc)\n",
    "y_pred_rfr = model_rfr.predict(X_test_sc)"
   ]
  },
  {
   "cell_type": "code",
   "execution_count": 480,
   "metadata": {},
   "outputs": [],
   "source": [
    "from sklearn.metrics import mean_squared_error"
   ]
  },
  {
   "cell_type": "code",
   "execution_count": 481,
   "metadata": {},
   "outputs": [],
   "source": [
    "RMSE_lasso = np.sqrt(mean_squared_error(y_test, y_pred_lasso))\n",
    "RMSE_rfr = np.sqrt(mean_squared_error(y_test, y_pred_rfr))"
   ]
  },
  {
   "cell_type": "code",
   "execution_count": 482,
   "metadata": {},
   "outputs": [
    {
     "name": "stdout",
     "output_type": "stream",
     "text": [
      "RMSE Lasso = 0.55\n"
     ]
    }
   ],
   "source": [
    "print(f'RMSE Lasso = {RMSE_lasso:.2f}')"
   ]
  },
  {
   "cell_type": "code",
   "execution_count": 483,
   "metadata": {},
   "outputs": [
    {
     "name": "stdout",
     "output_type": "stream",
     "text": [
      "RMSE Random Forest = 0.31\n"
     ]
    }
   ],
   "source": [
    "print(f'RMSE Random Forest = {RMSE_rfr:.2f}')"
   ]
  },
  {
   "cell_type": "code",
   "execution_count": 484,
   "metadata": {},
   "outputs": [
    {
     "data": {
      "text/html": [
       "<div>\n",
       "<style scoped>\n",
       "    .dataframe tbody tr th:only-of-type {\n",
       "        vertical-align: middle;\n",
       "    }\n",
       "\n",
       "    .dataframe tbody tr th {\n",
       "        vertical-align: top;\n",
       "    }\n",
       "\n",
       "    .dataframe thead th {\n",
       "        text-align: right;\n",
       "    }\n",
       "</style>\n",
       "<table border=\"1\" class=\"dataframe\">\n",
       "  <thead>\n",
       "    <tr style=\"text-align: right;\">\n",
       "      <th></th>\n",
       "      <th>y_test</th>\n",
       "      <th>y_pred_rfr</th>\n",
       "    </tr>\n",
       "  </thead>\n",
       "  <tbody>\n",
       "    <tr>\n",
       "      <th>650</th>\n",
       "      <td>3.769231</td>\n",
       "      <td>3.332431</td>\n",
       "    </tr>\n",
       "    <tr>\n",
       "      <th>322</th>\n",
       "      <td>3.959302</td>\n",
       "      <td>3.805648</td>\n",
       "    </tr>\n",
       "    <tr>\n",
       "      <th>238</th>\n",
       "      <td>3.318182</td>\n",
       "      <td>3.602619</td>\n",
       "    </tr>\n",
       "    <tr>\n",
       "      <th>997</th>\n",
       "      <td>3.681818</td>\n",
       "      <td>3.414084</td>\n",
       "    </tr>\n",
       "    <tr>\n",
       "      <th>1013</th>\n",
       "      <td>3.750000</td>\n",
       "      <td>3.649209</td>\n",
       "    </tr>\n",
       "    <tr>\n",
       "      <th>1456</th>\n",
       "      <td>4.107143</td>\n",
       "      <td>3.642240</td>\n",
       "    </tr>\n",
       "    <tr>\n",
       "      <th>347</th>\n",
       "      <td>4.210526</td>\n",
       "      <td>4.045693</td>\n",
       "    </tr>\n",
       "    <tr>\n",
       "      <th>404</th>\n",
       "      <td>3.714286</td>\n",
       "      <td>3.821918</td>\n",
       "    </tr>\n",
       "    <tr>\n",
       "      <th>1151</th>\n",
       "      <td>4.000000</td>\n",
       "      <td>4.000000</td>\n",
       "    </tr>\n",
       "    <tr>\n",
       "      <th>962</th>\n",
       "      <td>4.500000</td>\n",
       "      <td>4.517500</td>\n",
       "    </tr>\n",
       "    <tr>\n",
       "      <th>1188</th>\n",
       "      <td>4.000000</td>\n",
       "      <td>4.000000</td>\n",
       "    </tr>\n",
       "    <tr>\n",
       "      <th>1504</th>\n",
       "      <td>4.000000</td>\n",
       "      <td>3.621639</td>\n",
       "    </tr>\n",
       "    <tr>\n",
       "      <th>469</th>\n",
       "      <td>3.739130</td>\n",
       "      <td>3.766203</td>\n",
       "    </tr>\n",
       "    <tr>\n",
       "      <th>467</th>\n",
       "      <td>3.692308</td>\n",
       "      <td>3.756804</td>\n",
       "    </tr>\n",
       "    <tr>\n",
       "      <th>875</th>\n",
       "      <td>3.305556</td>\n",
       "      <td>3.742431</td>\n",
       "    </tr>\n",
       "    <tr>\n",
       "      <th>459</th>\n",
       "      <td>4.181818</td>\n",
       "      <td>3.948507</td>\n",
       "    </tr>\n",
       "    <tr>\n",
       "      <th>568</th>\n",
       "      <td>4.090426</td>\n",
       "      <td>3.782186</td>\n",
       "    </tr>\n",
       "    <tr>\n",
       "      <th>669</th>\n",
       "      <td>4.148649</td>\n",
       "      <td>3.816582</td>\n",
       "    </tr>\n",
       "    <tr>\n",
       "      <th>1409</th>\n",
       "      <td>4.000000</td>\n",
       "      <td>4.020000</td>\n",
       "    </tr>\n",
       "    <tr>\n",
       "      <th>682</th>\n",
       "      <td>3.166667</td>\n",
       "      <td>4.140159</td>\n",
       "    </tr>\n",
       "  </tbody>\n",
       "</table>\n",
       "</div>"
      ],
      "text/plain": [
       "        y_test  y_pred_rfr\n",
       "650   3.769231    3.332431\n",
       "322   3.959302    3.805648\n",
       "238   3.318182    3.602619\n",
       "997   3.681818    3.414084\n",
       "1013  3.750000    3.649209\n",
       "1456  4.107143    3.642240\n",
       "347   4.210526    4.045693\n",
       "404   3.714286    3.821918\n",
       "1151  4.000000    4.000000\n",
       "962   4.500000    4.517500\n",
       "1188  4.000000    4.000000\n",
       "1504  4.000000    3.621639\n",
       "469   3.739130    3.766203\n",
       "467   3.692308    3.756804\n",
       "875   3.305556    3.742431\n",
       "459   4.181818    3.948507\n",
       "568   4.090426    3.782186\n",
       "669   4.148649    3.816582\n",
       "1409  4.000000    4.020000\n",
       "682   3.166667    4.140159"
      ]
     },
     "execution_count": 484,
     "metadata": {},
     "output_type": "execute_result"
    }
   ],
   "source": [
    "pd.DataFrame({'y_test' : y_test, 'y_pred_rfr' : y_pred_rfr}).head(20)"
   ]
  },
  {
   "cell_type": "markdown",
   "metadata": {},
   "source": [
    "Попробуем предсказать оценки, которые пользователи поставят фильмам из отложенной выборки"
   ]
  },
  {
   "cell_type": "code",
   "execution_count": 485,
   "metadata": {},
   "outputs": [
    {
     "data": {
      "text/html": [
       "<div>\n",
       "<style scoped>\n",
       "    .dataframe tbody tr th:only-of-type {\n",
       "        vertical-align: middle;\n",
       "    }\n",
       "\n",
       "    .dataframe tbody tr th {\n",
       "        vertical-align: top;\n",
       "    }\n",
       "\n",
       "    .dataframe thead th {\n",
       "        text-align: right;\n",
       "    }\n",
       "</style>\n",
       "<table border=\"1\" class=\"dataframe\">\n",
       "  <thead>\n",
       "    <tr style=\"text-align: right;\">\n",
       "      <th></th>\n",
       "      <th>userId</th>\n",
       "      <th>movieId</th>\n",
       "      <th>rating</th>\n",
       "      <th>timestamp</th>\n",
       "      <th>normed_user_rating</th>\n",
       "    </tr>\n",
       "  </thead>\n",
       "  <tbody>\n",
       "    <tr>\n",
       "      <th>0</th>\n",
       "      <td>1</td>\n",
       "      <td>1</td>\n",
       "      <td>4.0</td>\n",
       "      <td>964982703</td>\n",
       "      <td>0.75</td>\n",
       "    </tr>\n",
       "    <tr>\n",
       "      <th>1</th>\n",
       "      <td>1</td>\n",
       "      <td>3</td>\n",
       "      <td>4.0</td>\n",
       "      <td>964981247</td>\n",
       "      <td>0.75</td>\n",
       "    </tr>\n",
       "    <tr>\n",
       "      <th>2</th>\n",
       "      <td>1</td>\n",
       "      <td>6</td>\n",
       "      <td>4.0</td>\n",
       "      <td>964982224</td>\n",
       "      <td>0.75</td>\n",
       "    </tr>\n",
       "    <tr>\n",
       "      <th>3</th>\n",
       "      <td>1</td>\n",
       "      <td>47</td>\n",
       "      <td>5.0</td>\n",
       "      <td>964983815</td>\n",
       "      <td>1.00</td>\n",
       "    </tr>\n",
       "    <tr>\n",
       "      <th>4</th>\n",
       "      <td>1</td>\n",
       "      <td>50</td>\n",
       "      <td>5.0</td>\n",
       "      <td>964982931</td>\n",
       "      <td>1.00</td>\n",
       "    </tr>\n",
       "  </tbody>\n",
       "</table>\n",
       "</div>"
      ],
      "text/plain": [
       "   userId  movieId  rating  timestamp  normed_user_rating\n",
       "0       1        1     4.0  964982703                0.75\n",
       "1       1        3     4.0  964981247                0.75\n",
       "2       1        6     4.0  964982224                0.75\n",
       "3       1       47     5.0  964983815                1.00\n",
       "4       1       50     5.0  964982931                1.00"
      ]
     },
     "execution_count": 485,
     "metadata": {},
     "output_type": "execute_result"
    }
   ],
   "source": [
    "ratings.head()"
   ]
  },
  {
   "cell_type": "code",
   "execution_count": 486,
   "metadata": {},
   "outputs": [
    {
     "data": {
      "text/html": [
       "<div>\n",
       "<style scoped>\n",
       "    .dataframe tbody tr th:only-of-type {\n",
       "        vertical-align: middle;\n",
       "    }\n",
       "\n",
       "    .dataframe tbody tr th {\n",
       "        vertical-align: top;\n",
       "    }\n",
       "\n",
       "    .dataframe thead th {\n",
       "        text-align: right;\n",
       "    }\n",
       "</style>\n",
       "<table border=\"1\" class=\"dataframe\">\n",
       "  <thead>\n",
       "    <tr style=\"text-align: right;\">\n",
       "      <th></th>\n",
       "      <th>rating</th>\n",
       "    </tr>\n",
       "    <tr>\n",
       "      <th>userId</th>\n",
       "      <th></th>\n",
       "    </tr>\n",
       "  </thead>\n",
       "  <tbody>\n",
       "    <tr>\n",
       "      <th>1</th>\n",
       "      <td>4.366379</td>\n",
       "    </tr>\n",
       "    <tr>\n",
       "      <th>2</th>\n",
       "      <td>3.948276</td>\n",
       "    </tr>\n",
       "    <tr>\n",
       "      <th>3</th>\n",
       "      <td>2.435897</td>\n",
       "    </tr>\n",
       "    <tr>\n",
       "      <th>4</th>\n",
       "      <td>3.555556</td>\n",
       "    </tr>\n",
       "    <tr>\n",
       "      <th>5</th>\n",
       "      <td>3.636364</td>\n",
       "    </tr>\n",
       "  </tbody>\n",
       "</table>\n",
       "</div>"
      ],
      "text/plain": [
       "          rating\n",
       "userId          \n",
       "1       4.366379\n",
       "2       3.948276\n",
       "3       2.435897\n",
       "4       3.555556\n",
       "5       3.636364"
      ]
     },
     "execution_count": 486,
     "metadata": {},
     "output_type": "execute_result"
    }
   ],
   "source": [
    "mean_user_rate = ratings.groupby('userId')[['rating']].mean()\n",
    "mean_user_rate.head()"
   ]
  },
  {
   "cell_type": "code",
   "execution_count": 487,
   "metadata": {},
   "outputs": [],
   "source": [
    "ratings = pd.merge(ratings, mean_user_rate.rename(columns={'rating': 'mean_user_rating'}), \n",
    "                   left_on='userId', right_index=True)\n",
    "ratings = pd.merge(ratings, movies_mean_rating.rename(columns={'rating': 'mean_film_rating'}), \n",
    "                   left_on='userId', right_index=True)"
   ]
  },
  {
   "cell_type": "code",
   "execution_count": 488,
   "metadata": {},
   "outputs": [],
   "source": [
    "cols = ['movieId', 'genres', 'rating_count', 'movie_normed_mean_rating', 'num_of_tags', 'tags', 'year']"
   ]
  },
  {
   "cell_type": "code",
   "execution_count": 489,
   "metadata": {},
   "outputs": [],
   "source": [
    "ratings = pd.merge(ratings, movies[cols], left_on='movieId', right_on='movieId')"
   ]
  },
  {
   "cell_type": "code",
   "execution_count": 490,
   "metadata": {},
   "outputs": [
    {
     "data": {
      "text/html": [
       "<div>\n",
       "<style scoped>\n",
       "    .dataframe tbody tr th:only-of-type {\n",
       "        vertical-align: middle;\n",
       "    }\n",
       "\n",
       "    .dataframe tbody tr th {\n",
       "        vertical-align: top;\n",
       "    }\n",
       "\n",
       "    .dataframe thead th {\n",
       "        text-align: right;\n",
       "    }\n",
       "</style>\n",
       "<table border=\"1\" class=\"dataframe\">\n",
       "  <thead>\n",
       "    <tr style=\"text-align: right;\">\n",
       "      <th></th>\n",
       "      <th>userId</th>\n",
       "      <th>movieId</th>\n",
       "      <th>rating</th>\n",
       "      <th>timestamp</th>\n",
       "      <th>normed_user_rating</th>\n",
       "      <th>mean_user_rating</th>\n",
       "      <th>mean_film_rating</th>\n",
       "      <th>genres</th>\n",
       "      <th>rating_count</th>\n",
       "      <th>movie_normed_mean_rating</th>\n",
       "      <th>num_of_tags</th>\n",
       "      <th>tags</th>\n",
       "      <th>year</th>\n",
       "    </tr>\n",
       "  </thead>\n",
       "  <tbody>\n",
       "    <tr>\n",
       "      <th>0</th>\n",
       "      <td>1</td>\n",
       "      <td>1</td>\n",
       "      <td>4.0</td>\n",
       "      <td>964982703</td>\n",
       "      <td>0.75</td>\n",
       "      <td>4.366379</td>\n",
       "      <td>3.920930</td>\n",
       "      <td>adventure animation children comedy fantasy</td>\n",
       "      <td>215</td>\n",
       "      <td>6.584792</td>\n",
       "      <td>3</td>\n",
       "      <td>pixar pixar fun</td>\n",
       "      <td>1995</td>\n",
       "    </tr>\n",
       "    <tr>\n",
       "      <th>1</th>\n",
       "      <td>5</td>\n",
       "      <td>1</td>\n",
       "      <td>4.0</td>\n",
       "      <td>847434962</td>\n",
       "      <td>0.75</td>\n",
       "      <td>3.636364</td>\n",
       "      <td>3.071429</td>\n",
       "      <td>adventure animation children comedy fantasy</td>\n",
       "      <td>215</td>\n",
       "      <td>6.584792</td>\n",
       "      <td>3</td>\n",
       "      <td>pixar pixar fun</td>\n",
       "      <td>1995</td>\n",
       "    </tr>\n",
       "  </tbody>\n",
       "</table>\n",
       "</div>"
      ],
      "text/plain": [
       "   userId  movieId  rating  timestamp  normed_user_rating  mean_user_rating  \\\n",
       "0       1        1     4.0  964982703                0.75          4.366379   \n",
       "1       5        1     4.0  847434962                0.75          3.636364   \n",
       "\n",
       "   mean_film_rating                                       genres  \\\n",
       "0          3.920930  adventure animation children comedy fantasy   \n",
       "1          3.071429  adventure animation children comedy fantasy   \n",
       "\n",
       "   rating_count  movie_normed_mean_rating  num_of_tags             tags  year  \n",
       "0           215                  6.584792            3  pixar pixar fun  1995  \n",
       "1           215                  6.584792            3  pixar pixar fun  1995  "
      ]
     },
     "execution_count": 490,
     "metadata": {},
     "output_type": "execute_result"
    }
   ],
   "source": [
    "ratings.head(2)"
   ]
  },
  {
   "cell_type": "code",
   "execution_count": 491,
   "metadata": {},
   "outputs": [],
   "source": [
    "corpus_1 = ratings['genres']\n",
    "corpus_2 = ratings['tags']\n",
    "vectorizer_1 = TfidfVectorizer()\n",
    "vectorizer_2 = TfidfVectorizer()\n",
    "X1 = vectorizer_1.fit_transform(corpus_1)\n",
    "X2 = vectorizer_2.fit_transform(corpus_2)"
   ]
  },
  {
   "cell_type": "code",
   "execution_count": 492,
   "metadata": {},
   "outputs": [],
   "source": [
    "X3 = csr_matrix(ratings.drop(['genres', 'tags', 'rating', 'normed_user_rating'], axis=1).iloc[:,3:].values)\n",
    "y = ratings['rating']"
   ]
  },
  {
   "cell_type": "code",
   "execution_count": 493,
   "metadata": {},
   "outputs": [
    {
     "data": {
      "text/plain": [
       "((42101, 24), (42101, 1738), (42101, 6), (42101,))"
      ]
     },
     "execution_count": 493,
     "metadata": {},
     "output_type": "execute_result"
    }
   ],
   "source": [
    "X1.shape, X2.shape, X3.shape, y.shape"
   ]
  },
  {
   "cell_type": "code",
   "execution_count": 494,
   "metadata": {},
   "outputs": [],
   "source": [
    "X = hstack([X1, X2, X3])"
   ]
  },
  {
   "cell_type": "code",
   "execution_count": 496,
   "metadata": {},
   "outputs": [],
   "source": [
    "X_train, X_test, y_train, y_test = train_test_split(X, y, test_size=0.2)"
   ]
  },
  {
   "cell_type": "code",
   "execution_count": 498,
   "metadata": {},
   "outputs": [],
   "source": [
    "# проведем масштабирование данных с помощью MaxAbsScaler (чтобы матрица данных осталась разреженной)\n",
    "scaler = MaxAbsScaler()\n",
    "X_train_sc = scaler.fit_transform(X_train)\n",
    "X_test_sc = scaler.transform(X_test)"
   ]
  },
  {
   "cell_type": "code",
   "execution_count": 500,
   "metadata": {},
   "outputs": [
    {
     "data": {
      "text/plain": [
       "RandomForestRegressor(bootstrap=True, criterion='mse', max_depth=None,\n",
       "           max_features='auto', max_leaf_nodes=None,\n",
       "           min_impurity_decrease=0.0, min_impurity_split=None,\n",
       "           min_samples_leaf=1, min_samples_split=2,\n",
       "           min_weight_fraction_leaf=0.0, n_estimators=100, n_jobs=None,\n",
       "           oob_score=False, random_state=None, verbose=0, warm_start=False)"
      ]
     },
     "execution_count": 500,
     "metadata": {},
     "output_type": "execute_result"
    }
   ],
   "source": [
    "model_lasso = Lasso()\n",
    "model_lasso.fit(X_train_sc, y_train)\n",
    "\n",
    "model_rfr = RandomForestRegressor(n_estimators=100)\n",
    "model_rfr.fit(X_train_sc, y_train)"
   ]
  },
  {
   "cell_type": "code",
   "execution_count": 502,
   "metadata": {},
   "outputs": [],
   "source": [
    "y_pred_lasso = model_lasso.predict(X_test_sc)\n",
    "y_pred_rfr = model_rfr.predict(X_test_sc)"
   ]
  },
  {
   "cell_type": "code",
   "execution_count": 503,
   "metadata": {},
   "outputs": [],
   "source": [
    "RMSE_lasso = np.sqrt(mean_squared_error(y_test, y_pred_lasso))\n",
    "RMSE_rfr = np.sqrt(mean_squared_error(y_test, y_pred_rfr))"
   ]
  },
  {
   "cell_type": "code",
   "execution_count": 504,
   "metadata": {},
   "outputs": [
    {
     "name": "stdout",
     "output_type": "stream",
     "text": [
      "RMSE Lasso = 0.96\n"
     ]
    }
   ],
   "source": [
    "print(f'RMSE Lasso = {RMSE_lasso:.2f}')"
   ]
  },
  {
   "cell_type": "code",
   "execution_count": 505,
   "metadata": {},
   "outputs": [
    {
     "name": "stdout",
     "output_type": "stream",
     "text": [
      "RMSE Random Forest = 0.83\n"
     ]
    }
   ],
   "source": [
    "print(f'RMSE Random Forest = {RMSE_rfr:.2f}')"
   ]
  },
  {
   "cell_type": "code",
   "execution_count": 506,
   "metadata": {},
   "outputs": [
    {
     "data": {
      "text/html": [
       "<div>\n",
       "<style scoped>\n",
       "    .dataframe tbody tr th:only-of-type {\n",
       "        vertical-align: middle;\n",
       "    }\n",
       "\n",
       "    .dataframe tbody tr th {\n",
       "        vertical-align: top;\n",
       "    }\n",
       "\n",
       "    .dataframe thead th {\n",
       "        text-align: right;\n",
       "    }\n",
       "</style>\n",
       "<table border=\"1\" class=\"dataframe\">\n",
       "  <thead>\n",
       "    <tr style=\"text-align: right;\">\n",
       "      <th></th>\n",
       "      <th>y_test</th>\n",
       "      <th>y_pred_rfr</th>\n",
       "    </tr>\n",
       "  </thead>\n",
       "  <tbody>\n",
       "    <tr>\n",
       "      <th>17546</th>\n",
       "      <td>4.0</td>\n",
       "      <td>3.515</td>\n",
       "    </tr>\n",
       "    <tr>\n",
       "      <th>31239</th>\n",
       "      <td>4.5</td>\n",
       "      <td>3.115</td>\n",
       "    </tr>\n",
       "    <tr>\n",
       "      <th>34455</th>\n",
       "      <td>5.0</td>\n",
       "      <td>3.885</td>\n",
       "    </tr>\n",
       "    <tr>\n",
       "      <th>33867</th>\n",
       "      <td>4.0</td>\n",
       "      <td>3.625</td>\n",
       "    </tr>\n",
       "    <tr>\n",
       "      <th>16666</th>\n",
       "      <td>4.0</td>\n",
       "      <td>4.325</td>\n",
       "    </tr>\n",
       "    <tr>\n",
       "      <th>22083</th>\n",
       "      <td>5.0</td>\n",
       "      <td>3.515</td>\n",
       "    </tr>\n",
       "    <tr>\n",
       "      <th>30921</th>\n",
       "      <td>3.5</td>\n",
       "      <td>4.070</td>\n",
       "    </tr>\n",
       "    <tr>\n",
       "      <th>26491</th>\n",
       "      <td>3.5</td>\n",
       "      <td>4.260</td>\n",
       "    </tr>\n",
       "    <tr>\n",
       "      <th>36856</th>\n",
       "      <td>4.0</td>\n",
       "      <td>3.945</td>\n",
       "    </tr>\n",
       "    <tr>\n",
       "      <th>3762</th>\n",
       "      <td>5.0</td>\n",
       "      <td>3.865</td>\n",
       "    </tr>\n",
       "    <tr>\n",
       "      <th>20618</th>\n",
       "      <td>3.0</td>\n",
       "      <td>3.495</td>\n",
       "    </tr>\n",
       "    <tr>\n",
       "      <th>24783</th>\n",
       "      <td>4.0</td>\n",
       "      <td>4.540</td>\n",
       "    </tr>\n",
       "    <tr>\n",
       "      <th>6797</th>\n",
       "      <td>3.0</td>\n",
       "      <td>3.505</td>\n",
       "    </tr>\n",
       "    <tr>\n",
       "      <th>9947</th>\n",
       "      <td>4.5</td>\n",
       "      <td>3.205</td>\n",
       "    </tr>\n",
       "    <tr>\n",
       "      <th>19230</th>\n",
       "      <td>2.5</td>\n",
       "      <td>3.825</td>\n",
       "    </tr>\n",
       "    <tr>\n",
       "      <th>13598</th>\n",
       "      <td>3.0</td>\n",
       "      <td>3.750</td>\n",
       "    </tr>\n",
       "    <tr>\n",
       "      <th>16663</th>\n",
       "      <td>4.0</td>\n",
       "      <td>4.055</td>\n",
       "    </tr>\n",
       "    <tr>\n",
       "      <th>11694</th>\n",
       "      <td>4.0</td>\n",
       "      <td>4.570</td>\n",
       "    </tr>\n",
       "    <tr>\n",
       "      <th>25559</th>\n",
       "      <td>4.0</td>\n",
       "      <td>3.750</td>\n",
       "    </tr>\n",
       "    <tr>\n",
       "      <th>14703</th>\n",
       "      <td>3.5</td>\n",
       "      <td>4.215</td>\n",
       "    </tr>\n",
       "  </tbody>\n",
       "</table>\n",
       "</div>"
      ],
      "text/plain": [
       "       y_test  y_pred_rfr\n",
       "17546     4.0       3.515\n",
       "31239     4.5       3.115\n",
       "34455     5.0       3.885\n",
       "33867     4.0       3.625\n",
       "16666     4.0       4.325\n",
       "22083     5.0       3.515\n",
       "30921     3.5       4.070\n",
       "26491     3.5       4.260\n",
       "36856     4.0       3.945\n",
       "3762      5.0       3.865\n",
       "20618     3.0       3.495\n",
       "24783     4.0       4.540\n",
       "6797      3.0       3.505\n",
       "9947      4.5       3.205\n",
       "19230     2.5       3.825\n",
       "13598     3.0       3.750\n",
       "16663     4.0       4.055\n",
       "11694     4.0       4.570\n",
       "25559     4.0       3.750\n",
       "14703     3.5       4.215"
      ]
     },
     "execution_count": 506,
     "metadata": {},
     "output_type": "execute_result"
    }
   ],
   "source": [
    "pd.DataFrame({'y_test' : y_test, 'y_pred_rfr' : y_pred_rfr}).head(20)"
   ]
  },
  {
   "cell_type": "markdown",
   "metadata": {},
   "source": [
    "Как видно из результатов, средние оценки фильмам можно предсказать довольно точно, в то время, как оценки пользователей предсказываются очень плохо."
   ]
  },
  {
   "cell_type": "code",
   "execution_count": null,
   "metadata": {},
   "outputs": [],
   "source": []
  }
 ],
 "metadata": {
  "kernelspec": {
   "display_name": "Python 3",
   "language": "python",
   "name": "python3"
  },
  "language_info": {
   "codemirror_mode": {
    "name": "ipython",
    "version": 3
   },
   "file_extension": ".py",
   "mimetype": "text/x-python",
   "name": "python",
   "nbconvert_exporter": "python",
   "pygments_lexer": "ipython3",
   "version": "3.7.1"
  }
 },
 "nbformat": 4,
 "nbformat_minor": 2
}
