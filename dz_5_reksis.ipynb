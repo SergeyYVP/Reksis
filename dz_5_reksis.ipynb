{
 "cells": [
  {
   "cell_type": "code",
   "execution_count": null,
   "metadata": {},
   "outputs": [],
   "source": [
    "from surprise import KNNBaseline, KNNBasic, KNNWithMeans, SVD, SVDpp\n",
    "from surprise import Dataset\n",
    "from surprise import accuracy\n",
    "from surprise import Reader\n",
    "from surprise.model_selection import train_test_split, KFold\n",
    "from surprise.model_selection.validation import cross_validate\n",
    "\n",
    "import pandas as pd\n",
    "import numpy as np"
   ]
  },
  {
   "cell_type": "code",
   "execution_count": 2,
   "metadata": {},
   "outputs": [],
   "source": [
    "movies = pd.read_csv('../lecture-1/movies.csv')\n",
    "ratings = pd.read_csv('../lecture-1/ratings.csv')"
   ]
  },
  {
   "cell_type": "code",
   "execution_count": 3,
   "metadata": {},
   "outputs": [
    {
     "data": {
      "text/html": [
       "<div>\n",
       "<style scoped>\n",
       "    .dataframe tbody tr th:only-of-type {\n",
       "        vertical-align: middle;\n",
       "    }\n",
       "\n",
       "    .dataframe tbody tr th {\n",
       "        vertical-align: top;\n",
       "    }\n",
       "\n",
       "    .dataframe thead th {\n",
       "        text-align: right;\n",
       "    }\n",
       "</style>\n",
       "<table border=\"1\" class=\"dataframe\">\n",
       "  <thead>\n",
       "    <tr style=\"text-align: right;\">\n",
       "      <th></th>\n",
       "      <th>userId</th>\n",
       "      <th>movieId</th>\n",
       "      <th>rating</th>\n",
       "      <th>timestamp</th>\n",
       "    </tr>\n",
       "  </thead>\n",
       "  <tbody>\n",
       "    <tr>\n",
       "      <th>0</th>\n",
       "      <td>1</td>\n",
       "      <td>1</td>\n",
       "      <td>4.0</td>\n",
       "      <td>964982703</td>\n",
       "    </tr>\n",
       "    <tr>\n",
       "      <th>1</th>\n",
       "      <td>1</td>\n",
       "      <td>3</td>\n",
       "      <td>4.0</td>\n",
       "      <td>964981247</td>\n",
       "    </tr>\n",
       "  </tbody>\n",
       "</table>\n",
       "</div>"
      ],
      "text/plain": [
       "   userId  movieId  rating  timestamp\n",
       "0       1        1     4.0  964982703\n",
       "1       1        3     4.0  964981247"
      ]
     },
     "execution_count": 3,
     "metadata": {},
     "output_type": "execute_result"
    }
   ],
   "source": [
    "ratings.head(2)"
   ]
  },
  {
   "cell_type": "code",
   "execution_count": 4,
   "metadata": {},
   "outputs": [
    {
     "data": {
      "text/html": [
       "<div>\n",
       "<style scoped>\n",
       "    .dataframe tbody tr th:only-of-type {\n",
       "        vertical-align: middle;\n",
       "    }\n",
       "\n",
       "    .dataframe tbody tr th {\n",
       "        vertical-align: top;\n",
       "    }\n",
       "\n",
       "    .dataframe thead th {\n",
       "        text-align: right;\n",
       "    }\n",
       "</style>\n",
       "<table border=\"1\" class=\"dataframe\">\n",
       "  <thead>\n",
       "    <tr style=\"text-align: right;\">\n",
       "      <th></th>\n",
       "      <th>rating</th>\n",
       "    </tr>\n",
       "    <tr>\n",
       "      <th>userId</th>\n",
       "      <th></th>\n",
       "    </tr>\n",
       "  </thead>\n",
       "  <tbody>\n",
       "    <tr>\n",
       "      <th>1</th>\n",
       "      <td>4.366379</td>\n",
       "    </tr>\n",
       "    <tr>\n",
       "      <th>2</th>\n",
       "      <td>3.948276</td>\n",
       "    </tr>\n",
       "    <tr>\n",
       "      <th>3</th>\n",
       "      <td>2.435897</td>\n",
       "    </tr>\n",
       "    <tr>\n",
       "      <th>4</th>\n",
       "      <td>3.555556</td>\n",
       "    </tr>\n",
       "    <tr>\n",
       "      <th>5</th>\n",
       "      <td>3.636364</td>\n",
       "    </tr>\n",
       "  </tbody>\n",
       "</table>\n",
       "</div>"
      ],
      "text/plain": [
       "          rating\n",
       "userId          \n",
       "1       4.366379\n",
       "2       3.948276\n",
       "3       2.435897\n",
       "4       3.555556\n",
       "5       3.636364"
      ]
     },
     "execution_count": 4,
     "metadata": {},
     "output_type": "execute_result"
    }
   ],
   "source": [
    "user_rating_mean = ratings.groupby('userId', sort=False)[['rating']].mean()\n",
    "user_rating_mean.head()"
   ]
  },
  {
   "cell_type": "code",
   "execution_count": 6,
   "metadata": {},
   "outputs": [],
   "source": [
    "# количество оценок по фильмам\n",
    "movie_rating_count = ratings.groupby('movieId', sort=False)[['rating']].count()\n",
    "# средняя оценка фильма\n",
    "movie_rating_mean = ratings.groupby('movieId', sort=False)[['rating']].mean()\n",
    "# количество оценок по фильмам\n",
    "movie_rating_count = ratings.groupby('movieId', sort=False)[['rating']].count()"
   ]
  },
  {
   "cell_type": "code",
   "execution_count": 7,
   "metadata": {},
   "outputs": [
    {
     "data": {
      "text/html": [
       "<div>\n",
       "<style scoped>\n",
       "    .dataframe tbody tr th:only-of-type {\n",
       "        vertical-align: middle;\n",
       "    }\n",
       "\n",
       "    .dataframe tbody tr th {\n",
       "        vertical-align: top;\n",
       "    }\n",
       "\n",
       "    .dataframe thead th {\n",
       "        text-align: right;\n",
       "    }\n",
       "</style>\n",
       "<table border=\"1\" class=\"dataframe\">\n",
       "  <thead>\n",
       "    <tr style=\"text-align: right;\">\n",
       "      <th></th>\n",
       "      <th>rating</th>\n",
       "    </tr>\n",
       "    <tr>\n",
       "      <th>movieId</th>\n",
       "      <th></th>\n",
       "    </tr>\n",
       "  </thead>\n",
       "  <tbody>\n",
       "    <tr>\n",
       "      <th>1</th>\n",
       "      <td>215</td>\n",
       "    </tr>\n",
       "    <tr>\n",
       "      <th>3</th>\n",
       "      <td>52</td>\n",
       "    </tr>\n",
       "  </tbody>\n",
       "</table>\n",
       "</div>"
      ],
      "text/plain": [
       "         rating\n",
       "movieId        \n",
       "1           215\n",
       "3            52"
      ]
     },
     "execution_count": 7,
     "metadata": {},
     "output_type": "execute_result"
    }
   ],
   "source": [
    "movie_rating_count.head(2)"
   ]
  },
  {
   "cell_type": "code",
   "execution_count": 8,
   "metadata": {},
   "outputs": [
    {
     "data": {
      "text/html": [
       "<div>\n",
       "<style scoped>\n",
       "    .dataframe tbody tr th:only-of-type {\n",
       "        vertical-align: middle;\n",
       "    }\n",
       "\n",
       "    .dataframe tbody tr th {\n",
       "        vertical-align: top;\n",
       "    }\n",
       "\n",
       "    .dataframe thead th {\n",
       "        text-align: right;\n",
       "    }\n",
       "</style>\n",
       "<table border=\"1\" class=\"dataframe\">\n",
       "  <thead>\n",
       "    <tr style=\"text-align: right;\">\n",
       "      <th></th>\n",
       "      <th>rating</th>\n",
       "    </tr>\n",
       "    <tr>\n",
       "      <th>movieId</th>\n",
       "      <th></th>\n",
       "    </tr>\n",
       "  </thead>\n",
       "  <tbody>\n",
       "    <tr>\n",
       "      <th>1</th>\n",
       "      <td>3.920930</td>\n",
       "    </tr>\n",
       "    <tr>\n",
       "      <th>3</th>\n",
       "      <td>3.259615</td>\n",
       "    </tr>\n",
       "  </tbody>\n",
       "</table>\n",
       "</div>"
      ],
      "text/plain": [
       "           rating\n",
       "movieId          \n",
       "1        3.920930\n",
       "3        3.259615"
      ]
     },
     "execution_count": 8,
     "metadata": {},
     "output_type": "execute_result"
    }
   ],
   "source": [
    "movie_rating_mean.head(2)"
   ]
  },
  {
   "cell_type": "code",
   "execution_count": 9,
   "metadata": {},
   "outputs": [],
   "source": [
    "movies_with_ratings = movies.join(ratings.set_index('movieId'), on='movieId').reset_index(drop=True)\n",
    "movies_with_ratings.dropna(inplace=True)"
   ]
  },
  {
   "cell_type": "code",
   "execution_count": 10,
   "metadata": {},
   "outputs": [
    {
     "data": {
      "text/html": [
       "<div>\n",
       "<style scoped>\n",
       "    .dataframe tbody tr th:only-of-type {\n",
       "        vertical-align: middle;\n",
       "    }\n",
       "\n",
       "    .dataframe tbody tr th {\n",
       "        vertical-align: top;\n",
       "    }\n",
       "\n",
       "    .dataframe thead th {\n",
       "        text-align: right;\n",
       "    }\n",
       "</style>\n",
       "<table border=\"1\" class=\"dataframe\">\n",
       "  <thead>\n",
       "    <tr style=\"text-align: right;\">\n",
       "      <th></th>\n",
       "      <th>movieId</th>\n",
       "      <th>title</th>\n",
       "      <th>genres</th>\n",
       "      <th>userId</th>\n",
       "      <th>rating</th>\n",
       "      <th>timestamp</th>\n",
       "    </tr>\n",
       "  </thead>\n",
       "  <tbody>\n",
       "    <tr>\n",
       "      <th>0</th>\n",
       "      <td>1</td>\n",
       "      <td>Toy Story (1995)</td>\n",
       "      <td>Adventure|Animation|Children|Comedy|Fantasy</td>\n",
       "      <td>1.0</td>\n",
       "      <td>4.0</td>\n",
       "      <td>964982703.0</td>\n",
       "    </tr>\n",
       "    <tr>\n",
       "      <th>1</th>\n",
       "      <td>1</td>\n",
       "      <td>Toy Story (1995)</td>\n",
       "      <td>Adventure|Animation|Children|Comedy|Fantasy</td>\n",
       "      <td>5.0</td>\n",
       "      <td>4.0</td>\n",
       "      <td>847434962.0</td>\n",
       "    </tr>\n",
       "  </tbody>\n",
       "</table>\n",
       "</div>"
      ],
      "text/plain": [
       "   movieId             title                                       genres  \\\n",
       "0        1  Toy Story (1995)  Adventure|Animation|Children|Comedy|Fantasy   \n",
       "1        1  Toy Story (1995)  Adventure|Animation|Children|Comedy|Fantasy   \n",
       "\n",
       "   userId  rating    timestamp  \n",
       "0     1.0     4.0  964982703.0  \n",
       "1     5.0     4.0  847434962.0  "
      ]
     },
     "execution_count": 10,
     "metadata": {},
     "output_type": "execute_result"
    }
   ],
   "source": [
    "movies_with_ratings.head(2)"
   ]
  },
  {
   "cell_type": "code",
   "execution_count": 11,
   "metadata": {},
   "outputs": [],
   "source": [
    "dataset = pd.DataFrame({\n",
    "    'uid': movies_with_ratings.userId,\n",
    "    'iid': movies_with_ratings.movieId,\n",
    "    'rating': movies_with_ratings.rating\n",
    "})"
   ]
  },
  {
   "cell_type": "code",
   "execution_count": 12,
   "metadata": {},
   "outputs": [],
   "source": [
    "view_dict = movies_with_ratings[['movieId', 'title']].drop_duplicates().set_index('movieId').to_dict()['title']"
   ]
  },
  {
   "cell_type": "code",
   "execution_count": 13,
   "metadata": {},
   "outputs": [
    {
     "data": {
      "text/html": [
       "<div>\n",
       "<style scoped>\n",
       "    .dataframe tbody tr th:only-of-type {\n",
       "        vertical-align: middle;\n",
       "    }\n",
       "\n",
       "    .dataframe tbody tr th {\n",
       "        vertical-align: top;\n",
       "    }\n",
       "\n",
       "    .dataframe thead th {\n",
       "        text-align: right;\n",
       "    }\n",
       "</style>\n",
       "<table border=\"1\" class=\"dataframe\">\n",
       "  <thead>\n",
       "    <tr style=\"text-align: right;\">\n",
       "      <th></th>\n",
       "      <th>uid</th>\n",
       "      <th>iid</th>\n",
       "      <th>rating</th>\n",
       "    </tr>\n",
       "  </thead>\n",
       "  <tbody>\n",
       "    <tr>\n",
       "      <th>0</th>\n",
       "      <td>1.0</td>\n",
       "      <td>1</td>\n",
       "      <td>4.0</td>\n",
       "    </tr>\n",
       "    <tr>\n",
       "      <th>1</th>\n",
       "      <td>5.0</td>\n",
       "      <td>1</td>\n",
       "      <td>4.0</td>\n",
       "    </tr>\n",
       "  </tbody>\n",
       "</table>\n",
       "</div>"
      ],
      "text/plain": [
       "   uid  iid  rating\n",
       "0  1.0    1     4.0\n",
       "1  5.0    1     4.0"
      ]
     },
     "execution_count": 13,
     "metadata": {},
     "output_type": "execute_result"
    }
   ],
   "source": [
    "dataset.head(2)"
   ]
  },
  {
   "cell_type": "code",
   "execution_count": 14,
   "metadata": {},
   "outputs": [
    {
     "data": {
      "text/plain": [
       "0.5"
      ]
     },
     "execution_count": 14,
     "metadata": {},
     "output_type": "execute_result"
    }
   ],
   "source": [
    "ratings.rating.min()"
   ]
  },
  {
   "cell_type": "code",
   "execution_count": 15,
   "metadata": {},
   "outputs": [
    {
     "data": {
      "text/plain": [
       "5.0"
      ]
     },
     "execution_count": 15,
     "metadata": {},
     "output_type": "execute_result"
    }
   ],
   "source": [
    "ratings.rating.max()"
   ]
  },
  {
   "cell_type": "code",
   "execution_count": 16,
   "metadata": {},
   "outputs": [],
   "source": [
    "from sklearn import model_selection"
   ]
  },
  {
   "cell_type": "code",
   "execution_count": 17,
   "metadata": {},
   "outputs": [],
   "source": [
    "# разделим обучающий набор на обучающий и валидационный.\n",
    "X_train, X_val = model_selection.train_test_split(dataset, test_size=0.15, random_state=1)"
   ]
  },
  {
   "cell_type": "code",
   "execution_count": 18,
   "metadata": {},
   "outputs": [],
   "source": [
    "algs = [KNNBaseline(), KNNBasic(), KNNWithMeans(), SVD()]\n",
    "kf = KFold(n_splits=5, random_state=42)\n",
    "reader = Reader(rating_scale=(0.5, 5.0))"
   ]
  },
  {
   "cell_type": "code",
   "execution_count": 19,
   "metadata": {},
   "outputs": [],
   "source": [
    "def get_X_meta(algs, X, user_rating_mean, movie_rating_mean, movie_rating_count):\n",
    "    '''\n",
    "    Функция возвращает DataFrame, столбцы которого предсатвляют собой предсказания ансамбля algs\n",
    "    на обучающем наборе данных, а также среднюю оценку пользователя, среднюю оценку фильма\n",
    "    и количество оценок у фильма.\n",
    "    Данный DataFrame будет использоваться для обучения мета модели.\n",
    "    '''\n",
    "    np.random.seed(42)\n",
    "    X_surp = Dataset.load_from_df(X, reader)\n",
    "    result_dfs = []\n",
    "    for trainset, testset in kf.split(X_surp):\n",
    "        result = []\n",
    "        for i, alg in enumerate(algs):\n",
    "            alg.fit(trainset)\n",
    "            test_predict = alg.test(testset)\n",
    "            result.append(pd.DataFrame(test_predict, columns=['uid', 'iid', 'rui', 'est', 'details']\n",
    "                                      )[['uid', 'iid', 'rui', 'est']])\n",
    "        result_df = result[0][['uid', 'iid', 'rui']]\n",
    "        for i, res in enumerate(result):\n",
    "            result_df['est_' + str(algs[i]).split(' object')[0].split('.')[-1]] = result[i]['est']\n",
    "        result_dfs.append(result_df)\n",
    "    fin_df = pd.concat(result_dfs)\n",
    "    \n",
    "    fin_df = pd.merge(fin_df, user_rating_mean.rename(columns={'rating':'user_rating_mean'}), \n",
    "                  left_on='uid', right_index=True)\n",
    "                   \n",
    "    fin_df = pd.merge(fin_df, movie_rating_mean.rename(columns={'rating':'movie_rating_mean'}), \n",
    "                  left_on='iid', right_index=True)\n",
    "    \n",
    "    fin_df = pd.merge(fin_df, movie_rating_count.rename(columns={'rating':'movie_rating_count'}), \n",
    "                  left_on='iid', right_index=True)\n",
    "      \n",
    "    return fin_df, algs"
   ]
  },
  {
   "cell_type": "code",
   "execution_count": null,
   "metadata": {},
   "outputs": [],
   "source": [
    "res_train, algs_train = get_X_meta(algs, X_train, user_rating_mean, movie_rating_mean, movie_rating_count)"
   ]
  },
  {
   "cell_type": "code",
   "execution_count": 21,
   "metadata": {},
   "outputs": [],
   "source": [
    "X_meta_train = res_train.drop(['uid', 'iid', 'rui'], axis=1)\n",
    "y_meta_train = res_train['rui']"
   ]
  },
  {
   "cell_type": "code",
   "execution_count": 71,
   "metadata": {},
   "outputs": [],
   "source": [
    "from sklearn.ensemble import RandomForestRegressor"
   ]
  },
  {
   "cell_type": "code",
   "execution_count": 80,
   "metadata": {},
   "outputs": [],
   "source": [
    "meta_alg = RandomForestRegressor(n_estimators=50)"
   ]
  },
  {
   "cell_type": "code",
   "execution_count": 81,
   "metadata": {},
   "outputs": [
    {
     "data": {
      "text/plain": [
       "RandomForestRegressor(bootstrap=True, criterion='mse', max_depth=None,\n",
       "                      max_features='auto', max_leaf_nodes=None,\n",
       "                      min_impurity_decrease=0.0, min_impurity_split=None,\n",
       "                      min_samples_leaf=1, min_samples_split=2,\n",
       "                      min_weight_fraction_leaf=0.0, n_estimators=50,\n",
       "                      n_jobs=None, oob_score=False, random_state=None,\n",
       "                      verbose=0, warm_start=False)"
      ]
     },
     "execution_count": 81,
     "metadata": {},
     "output_type": "execute_result"
    }
   ],
   "source": [
    "meta_alg.fit(X_meta_train, y_meta_train)"
   ]
  },
  {
   "cell_type": "code",
   "execution_count": null,
   "metadata": {},
   "outputs": [],
   "source": [
    "res_val, algs_val = get_X_meta(algs, X_val, user_rating_mean, movie_rating_mean, movie_rating_count)"
   ]
  },
  {
   "cell_type": "code",
   "execution_count": 82,
   "metadata": {},
   "outputs": [
    {
     "data": {
      "text/html": [
       "<div>\n",
       "<style scoped>\n",
       "    .dataframe tbody tr th:only-of-type {\n",
       "        vertical-align: middle;\n",
       "    }\n",
       "\n",
       "    .dataframe tbody tr th {\n",
       "        vertical-align: top;\n",
       "    }\n",
       "\n",
       "    .dataframe thead th {\n",
       "        text-align: right;\n",
       "    }\n",
       "</style>\n",
       "<table border=\"1\" class=\"dataframe\">\n",
       "  <thead>\n",
       "    <tr style=\"text-align: right;\">\n",
       "      <th></th>\n",
       "      <th>uid</th>\n",
       "      <th>iid</th>\n",
       "      <th>rui</th>\n",
       "      <th>est_KNNBaseline</th>\n",
       "      <th>est_KNNBasic</th>\n",
       "      <th>est_KNNWithMeans</th>\n",
       "      <th>est_SVD</th>\n",
       "      <th>user_rating_mean</th>\n",
       "      <th>movie_rating_mean</th>\n",
       "      <th>movie_rating_count</th>\n",
       "      <th>meta_est</th>\n",
       "    </tr>\n",
       "  </thead>\n",
       "  <tbody>\n",
       "    <tr>\n",
       "      <th>0</th>\n",
       "      <td>599.0</td>\n",
       "      <td>60365</td>\n",
       "      <td>1.5</td>\n",
       "      <td>2.672107</td>\n",
       "      <td>3.498678</td>\n",
       "      <td>3.498678</td>\n",
       "      <td>2.645168</td>\n",
       "      <td>2.642050</td>\n",
       "      <td>1.500000</td>\n",
       "      <td>1</td>\n",
       "      <td>4.96</td>\n",
       "    </tr>\n",
       "    <tr>\n",
       "      <th>136</th>\n",
       "      <td>599.0</td>\n",
       "      <td>4015</td>\n",
       "      <td>2.0</td>\n",
       "      <td>1.647163</td>\n",
       "      <td>2.327801</td>\n",
       "      <td>1.614505</td>\n",
       "      <td>2.432642</td>\n",
       "      <td>2.642050</td>\n",
       "      <td>2.727273</td>\n",
       "      <td>33</td>\n",
       "      <td>4.50</td>\n",
       "    </tr>\n",
       "    <tr>\n",
       "      <th>2279</th>\n",
       "      <td>182.0</td>\n",
       "      <td>4015</td>\n",
       "      <td>1.5</td>\n",
       "      <td>3.077520</td>\n",
       "      <td>2.768786</td>\n",
       "      <td>3.146830</td>\n",
       "      <td>3.186372</td>\n",
       "      <td>3.511259</td>\n",
       "      <td>2.727273</td>\n",
       "      <td>33</td>\n",
       "      <td>4.97</td>\n",
       "    </tr>\n",
       "    <tr>\n",
       "      <th>2368</th>\n",
       "      <td>232.0</td>\n",
       "      <td>4015</td>\n",
       "      <td>3.0</td>\n",
       "      <td>1.966267</td>\n",
       "      <td>1.742857</td>\n",
       "      <td>1.934221</td>\n",
       "      <td>3.308747</td>\n",
       "      <td>3.250580</td>\n",
       "      <td>2.727273</td>\n",
       "      <td>33</td>\n",
       "      <td>4.41</td>\n",
       "    </tr>\n",
       "    <tr>\n",
       "      <th>198</th>\n",
       "      <td>599.0</td>\n",
       "      <td>3591</td>\n",
       "      <td>2.5</td>\n",
       "      <td>3.070241</td>\n",
       "      <td>4.000000</td>\n",
       "      <td>2.811185</td>\n",
       "      <td>2.823023</td>\n",
       "      <td>2.642050</td>\n",
       "      <td>2.733333</td>\n",
       "      <td>15</td>\n",
       "      <td>4.96</td>\n",
       "    </tr>\n",
       "  </tbody>\n",
       "</table>\n",
       "</div>"
      ],
      "text/plain": [
       "        uid    iid  rui  est_KNNBaseline  est_KNNBasic  est_KNNWithMeans  \\\n",
       "0     599.0  60365  1.5         2.672107      3.498678          3.498678   \n",
       "136   599.0   4015  2.0         1.647163      2.327801          1.614505   \n",
       "2279  182.0   4015  1.5         3.077520      2.768786          3.146830   \n",
       "2368  232.0   4015  3.0         1.966267      1.742857          1.934221   \n",
       "198   599.0   3591  2.5         3.070241      4.000000          2.811185   \n",
       "\n",
       "       est_SVD  user_rating_mean  movie_rating_mean  movie_rating_count  \\\n",
       "0     2.645168          2.642050           1.500000                   1   \n",
       "136   2.432642          2.642050           2.727273                  33   \n",
       "2279  3.186372          3.511259           2.727273                  33   \n",
       "2368  3.308747          3.250580           2.727273                  33   \n",
       "198   2.823023          2.642050           2.733333                  15   \n",
       "\n",
       "      meta_est  \n",
       "0         4.96  \n",
       "136       4.50  \n",
       "2279      4.97  \n",
       "2368      4.41  \n",
       "198       4.96  "
      ]
     },
     "execution_count": 82,
     "metadata": {},
     "output_type": "execute_result"
    }
   ],
   "source": [
    "res_val.head()"
   ]
  },
  {
   "cell_type": "code",
   "execution_count": 83,
   "metadata": {},
   "outputs": [],
   "source": [
    "res_val['meta_est'] = meta_alg.predict(res_val.iloc[:,3:10])"
   ]
  },
  {
   "cell_type": "code",
   "execution_count": 84,
   "metadata": {},
   "outputs": [
    {
     "data": {
      "text/html": [
       "<div>\n",
       "<style scoped>\n",
       "    .dataframe tbody tr th:only-of-type {\n",
       "        vertical-align: middle;\n",
       "    }\n",
       "\n",
       "    .dataframe tbody tr th {\n",
       "        vertical-align: top;\n",
       "    }\n",
       "\n",
       "    .dataframe thead th {\n",
       "        text-align: right;\n",
       "    }\n",
       "</style>\n",
       "<table border=\"1\" class=\"dataframe\">\n",
       "  <thead>\n",
       "    <tr style=\"text-align: right;\">\n",
       "      <th></th>\n",
       "      <th>uid</th>\n",
       "      <th>iid</th>\n",
       "      <th>rui</th>\n",
       "      <th>est_KNNBaseline</th>\n",
       "      <th>est_KNNBasic</th>\n",
       "      <th>est_KNNWithMeans</th>\n",
       "      <th>est_SVD</th>\n",
       "      <th>user_rating_mean</th>\n",
       "      <th>movie_rating_mean</th>\n",
       "      <th>movie_rating_count</th>\n",
       "      <th>meta_est</th>\n",
       "    </tr>\n",
       "  </thead>\n",
       "  <tbody>\n",
       "    <tr>\n",
       "      <th>0</th>\n",
       "      <td>599.0</td>\n",
       "      <td>60365</td>\n",
       "      <td>1.5</td>\n",
       "      <td>2.672107</td>\n",
       "      <td>3.498678</td>\n",
       "      <td>3.498678</td>\n",
       "      <td>2.645168</td>\n",
       "      <td>2.642050</td>\n",
       "      <td>1.500000</td>\n",
       "      <td>1</td>\n",
       "      <td>1.493333</td>\n",
       "    </tr>\n",
       "    <tr>\n",
       "      <th>136</th>\n",
       "      <td>599.0</td>\n",
       "      <td>4015</td>\n",
       "      <td>2.0</td>\n",
       "      <td>1.647163</td>\n",
       "      <td>2.327801</td>\n",
       "      <td>1.614505</td>\n",
       "      <td>2.432642</td>\n",
       "      <td>2.642050</td>\n",
       "      <td>2.727273</td>\n",
       "      <td>33</td>\n",
       "      <td>2.550000</td>\n",
       "    </tr>\n",
       "    <tr>\n",
       "      <th>2279</th>\n",
       "      <td>182.0</td>\n",
       "      <td>4015</td>\n",
       "      <td>1.5</td>\n",
       "      <td>3.077520</td>\n",
       "      <td>2.768786</td>\n",
       "      <td>3.146830</td>\n",
       "      <td>3.186372</td>\n",
       "      <td>3.511259</td>\n",
       "      <td>2.727273</td>\n",
       "      <td>33</td>\n",
       "      <td>2.860000</td>\n",
       "    </tr>\n",
       "    <tr>\n",
       "      <th>2368</th>\n",
       "      <td>232.0</td>\n",
       "      <td>4015</td>\n",
       "      <td>3.0</td>\n",
       "      <td>1.966267</td>\n",
       "      <td>1.742857</td>\n",
       "      <td>1.934221</td>\n",
       "      <td>3.308747</td>\n",
       "      <td>3.250580</td>\n",
       "      <td>2.727273</td>\n",
       "      <td>33</td>\n",
       "      <td>3.220000</td>\n",
       "    </tr>\n",
       "    <tr>\n",
       "      <th>198</th>\n",
       "      <td>599.0</td>\n",
       "      <td>3591</td>\n",
       "      <td>2.5</td>\n",
       "      <td>3.070241</td>\n",
       "      <td>4.000000</td>\n",
       "      <td>2.811185</td>\n",
       "      <td>2.823023</td>\n",
       "      <td>2.642050</td>\n",
       "      <td>2.733333</td>\n",
       "      <td>15</td>\n",
       "      <td>1.510000</td>\n",
       "    </tr>\n",
       "  </tbody>\n",
       "</table>\n",
       "</div>"
      ],
      "text/plain": [
       "        uid    iid  rui  est_KNNBaseline  est_KNNBasic  est_KNNWithMeans  \\\n",
       "0     599.0  60365  1.5         2.672107      3.498678          3.498678   \n",
       "136   599.0   4015  2.0         1.647163      2.327801          1.614505   \n",
       "2279  182.0   4015  1.5         3.077520      2.768786          3.146830   \n",
       "2368  232.0   4015  3.0         1.966267      1.742857          1.934221   \n",
       "198   599.0   3591  2.5         3.070241      4.000000          2.811185   \n",
       "\n",
       "       est_SVD  user_rating_mean  movie_rating_mean  movie_rating_count  \\\n",
       "0     2.645168          2.642050           1.500000                   1   \n",
       "136   2.432642          2.642050           2.727273                  33   \n",
       "2279  3.186372          3.511259           2.727273                  33   \n",
       "2368  3.308747          3.250580           2.727273                  33   \n",
       "198   2.823023          2.642050           2.733333                  15   \n",
       "\n",
       "      meta_est  \n",
       "0     1.493333  \n",
       "136   2.550000  \n",
       "2279  2.860000  \n",
       "2368  3.220000  \n",
       "198   1.510000  "
      ]
     },
     "execution_count": 84,
     "metadata": {},
     "output_type": "execute_result"
    }
   ],
   "source": [
    "res_val.head()"
   ]
  },
  {
   "cell_type": "code",
   "execution_count": 85,
   "metadata": {},
   "outputs": [],
   "source": [
    "from sklearn.metrics import mean_squared_error"
   ]
  },
  {
   "cell_type": "code",
   "execution_count": 156,
   "metadata": {},
   "outputs": [
    {
     "data": {
      "text/plain": [
       "0.868195068721334"
      ]
     },
     "execution_count": 156,
     "metadata": {},
     "output_type": "execute_result"
    }
   ],
   "source": [
    "np.sqrt(mean_squared_error(res_val['rui'], res_val['meta_est']))"
   ]
  },
  {
   "cell_type": "code",
   "execution_count": null,
   "metadata": {},
   "outputs": [],
   "source": [
    "# получаем DataFrame с признаками для обучения мета алгоритма на всем датасете.\n",
    "res_fin, algs_fin = get_X_meta(algs, dataset, user_rating_mean, movie_rating_mean, movie_rating_count)"
   ]
  },
  {
   "cell_type": "code",
   "execution_count": 34,
   "metadata": {},
   "outputs": [
    {
     "data": {
      "text/html": [
       "<div>\n",
       "<style scoped>\n",
       "    .dataframe tbody tr th:only-of-type {\n",
       "        vertical-align: middle;\n",
       "    }\n",
       "\n",
       "    .dataframe tbody tr th {\n",
       "        vertical-align: top;\n",
       "    }\n",
       "\n",
       "    .dataframe thead th {\n",
       "        text-align: right;\n",
       "    }\n",
       "</style>\n",
       "<table border=\"1\" class=\"dataframe\">\n",
       "  <thead>\n",
       "    <tr style=\"text-align: right;\">\n",
       "      <th></th>\n",
       "      <th>uid</th>\n",
       "      <th>iid</th>\n",
       "      <th>rui</th>\n",
       "      <th>est_KNNBaseline</th>\n",
       "      <th>est_KNNBasic</th>\n",
       "      <th>est_KNNWithMeans</th>\n",
       "      <th>est_SVD</th>\n",
       "      <th>user_rating_mean</th>\n",
       "      <th>movie_rating_mean</th>\n",
       "      <th>movie_rating_count</th>\n",
       "    </tr>\n",
       "  </thead>\n",
       "  <tbody>\n",
       "    <tr>\n",
       "      <th>0</th>\n",
       "      <td>599.0</td>\n",
       "      <td>5418</td>\n",
       "      <td>3.0</td>\n",
       "      <td>3.141719</td>\n",
       "      <td>3.794167</td>\n",
       "      <td>3.013751</td>\n",
       "      <td>3.215928</td>\n",
       "      <td>2.642050</td>\n",
       "      <td>3.816964</td>\n",
       "      <td>112</td>\n",
       "    </tr>\n",
       "    <tr>\n",
       "      <th>14749</th>\n",
       "      <td>282.0</td>\n",
       "      <td>5418</td>\n",
       "      <td>4.5</td>\n",
       "      <td>4.137919</td>\n",
       "      <td>4.020600</td>\n",
       "      <td>4.215653</td>\n",
       "      <td>4.056181</td>\n",
       "      <td>4.033755</td>\n",
       "      <td>3.816964</td>\n",
       "      <td>112</td>\n",
       "    </tr>\n",
       "    <tr>\n",
       "      <th>14866</th>\n",
       "      <td>414.0</td>\n",
       "      <td>5418</td>\n",
       "      <td>4.0</td>\n",
       "      <td>3.858364</td>\n",
       "      <td>4.126701</td>\n",
       "      <td>3.691005</td>\n",
       "      <td>3.742565</td>\n",
       "      <td>3.391957</td>\n",
       "      <td>3.816964</td>\n",
       "      <td>112</td>\n",
       "    </tr>\n",
       "    <tr>\n",
       "      <th>5858</th>\n",
       "      <td>448.0</td>\n",
       "      <td>5418</td>\n",
       "      <td>3.0</td>\n",
       "      <td>3.314452</td>\n",
       "      <td>3.869553</td>\n",
       "      <td>3.123381</td>\n",
       "      <td>3.388796</td>\n",
       "      <td>2.847371</td>\n",
       "      <td>3.816964</td>\n",
       "      <td>112</td>\n",
       "    </tr>\n",
       "    <tr>\n",
       "      <th>3799</th>\n",
       "      <td>391.0</td>\n",
       "      <td>5418</td>\n",
       "      <td>4.0</td>\n",
       "      <td>3.755288</td>\n",
       "      <td>3.670617</td>\n",
       "      <td>3.850964</td>\n",
       "      <td>4.117101</td>\n",
       "      <td>3.715026</td>\n",
       "      <td>3.816964</td>\n",
       "      <td>112</td>\n",
       "    </tr>\n",
       "  </tbody>\n",
       "</table>\n",
       "</div>"
      ],
      "text/plain": [
       "         uid   iid  rui  est_KNNBaseline  est_KNNBasic  est_KNNWithMeans  \\\n",
       "0      599.0  5418  3.0         3.141719      3.794167          3.013751   \n",
       "14749  282.0  5418  4.5         4.137919      4.020600          4.215653   \n",
       "14866  414.0  5418  4.0         3.858364      4.126701          3.691005   \n",
       "5858   448.0  5418  3.0         3.314452      3.869553          3.123381   \n",
       "3799   391.0  5418  4.0         3.755288      3.670617          3.850964   \n",
       "\n",
       "        est_SVD  user_rating_mean  movie_rating_mean  movie_rating_count  \n",
       "0      3.215928          2.642050           3.816964                 112  \n",
       "14749  4.056181          4.033755           3.816964                 112  \n",
       "14866  3.742565          3.391957           3.816964                 112  \n",
       "5858   3.388796          2.847371           3.816964                 112  \n",
       "3799   4.117101          3.715026           3.816964                 112  "
      ]
     },
     "execution_count": 34,
     "metadata": {},
     "output_type": "execute_result"
    }
   ],
   "source": [
    "res_fin.head()"
   ]
  },
  {
   "cell_type": "code",
   "execution_count": 35,
   "metadata": {},
   "outputs": [],
   "source": [
    "X_meta_fin = res_fin.drop(['uid', 'iid', 'rui'], axis=1)\n",
    "y_meta_fin = res_fin['rui']"
   ]
  },
  {
   "cell_type": "code",
   "execution_count": 87,
   "metadata": {},
   "outputs": [],
   "source": [
    "meta_alg_fin = RandomForestRegressor(n_estimators=50)"
   ]
  },
  {
   "cell_type": "code",
   "execution_count": 88,
   "metadata": {},
   "outputs": [
    {
     "data": {
      "text/plain": [
       "RandomForestRegressor(bootstrap=True, criterion='mse', max_depth=None,\n",
       "                      max_features='auto', max_leaf_nodes=None,\n",
       "                      min_impurity_decrease=0.0, min_impurity_split=None,\n",
       "                      min_samples_leaf=1, min_samples_split=2,\n",
       "                      min_weight_fraction_leaf=0.0, n_estimators=50,\n",
       "                      n_jobs=None, oob_score=False, random_state=None,\n",
       "                      verbose=0, warm_start=False)"
      ]
     },
     "execution_count": 88,
     "metadata": {},
     "output_type": "execute_result"
    }
   ],
   "source": [
    "meta_alg_fin.fit(X_meta_fin, y_meta_fin)"
   ]
  },
  {
   "cell_type": "code",
   "execution_count": 89,
   "metadata": {},
   "outputs": [
    {
     "data": {
      "text/html": [
       "<div>\n",
       "<style scoped>\n",
       "    .dataframe tbody tr th:only-of-type {\n",
       "        vertical-align: middle;\n",
       "    }\n",
       "\n",
       "    .dataframe tbody tr th {\n",
       "        vertical-align: top;\n",
       "    }\n",
       "\n",
       "    .dataframe thead th {\n",
       "        text-align: right;\n",
       "    }\n",
       "</style>\n",
       "<table border=\"1\" class=\"dataframe\">\n",
       "  <thead>\n",
       "    <tr style=\"text-align: right;\">\n",
       "      <th></th>\n",
       "      <th>uid</th>\n",
       "      <th>iid</th>\n",
       "      <th>rui</th>\n",
       "      <th>est_KNNBaseline</th>\n",
       "      <th>est_KNNBasic</th>\n",
       "      <th>est_KNNWithMeans</th>\n",
       "      <th>est_SVD</th>\n",
       "      <th>user_rating_mean</th>\n",
       "      <th>movie_rating_mean</th>\n",
       "      <th>movie_rating_count</th>\n",
       "    </tr>\n",
       "  </thead>\n",
       "  <tbody>\n",
       "    <tr>\n",
       "      <th>0</th>\n",
       "      <td>599.0</td>\n",
       "      <td>5418</td>\n",
       "      <td>3.0</td>\n",
       "      <td>3.141719</td>\n",
       "      <td>3.794167</td>\n",
       "      <td>3.013751</td>\n",
       "      <td>3.215928</td>\n",
       "      <td>2.64205</td>\n",
       "      <td>3.816964</td>\n",
       "      <td>112</td>\n",
       "    </tr>\n",
       "  </tbody>\n",
       "</table>\n",
       "</div>"
      ],
      "text/plain": [
       "     uid   iid  rui  est_KNNBaseline  est_KNNBasic  est_KNNWithMeans  \\\n",
       "0  599.0  5418  3.0         3.141719      3.794167          3.013751   \n",
       "\n",
       "    est_SVD  user_rating_mean  movie_rating_mean  movie_rating_count  \n",
       "0  3.215928           2.64205           3.816964                 112  "
      ]
     },
     "execution_count": 89,
     "metadata": {},
     "output_type": "execute_result"
    }
   ],
   "source": [
    "res_fin.head(1)"
   ]
  },
  {
   "cell_type": "code",
   "execution_count": 91,
   "metadata": {},
   "outputs": [],
   "source": [
    "def rate_predictions(uid, df, algs, meta_alg):\n",
    "    \"\"\"\n",
    "    Функция возвращающает DataFrame с ожидаемыми оценками для фильмов, которые еще\n",
    "    не смотрел пользователь uid.\n",
    "    \"\"\"\n",
    "    predictions = []\n",
    "    film_ids = set(df['iid'].unique())\n",
    "    watched_film_ids = set(df[df['uid']==uid]['iid'].unique())\n",
    "    not_watched_film_ids = np.array(list(film_ids - watched_film_ids))\n",
    "    user_mean_rate = df[df['uid']==uid]['user_rating_mean'].iloc[0]\n",
    "    for film_id in not_watched_film_ids:\n",
    "        alg_predictions = [alg.predict(uid, film_id).est for alg in algs]\n",
    "        movie_mean_rate = df[df['iid']==film_id]['movie_rating_mean'].iloc[0]\n",
    "        movie_rate_count = df[df['iid']==film_id]['movie_rating_count'].iloc[0]\n",
    "        predictions.append((*alg_predictions, user_mean_rate, movie_mean_rate, movie_rate_count))\n",
    "    \n",
    "    return pd.DataFrame(np.c_[not_watched_film_ids, meta_alg.predict(np.array(predictions))], columns = ['iid', 'est_rate'])"
   ]
  },
  {
   "cell_type": "code",
   "execution_count": 140,
   "metadata": {},
   "outputs": [],
   "source": [
    "film_rates = rate_predictions(15, res_fin, algs_fin, meta_alg_fin)"
   ]
  },
  {
   "cell_type": "code",
   "execution_count": 141,
   "metadata": {},
   "outputs": [],
   "source": [
    "# добавим названия фильмов.\n",
    "film_rates['Title'] = film_rates['iid'].map(view_dict)"
   ]
  },
  {
   "cell_type": "code",
   "execution_count": 143,
   "metadata": {},
   "outputs": [],
   "source": [
    "film_rates = pd.merge(film_rates, movie_rating_count.rename(columns={'rating': 'rate_count'}), left_on='iid', right_index=True)"
   ]
  },
  {
   "cell_type": "code",
   "execution_count": 145,
   "metadata": {},
   "outputs": [
    {
     "data": {
      "text/html": [
       "<div>\n",
       "<style scoped>\n",
       "    .dataframe tbody tr th:only-of-type {\n",
       "        vertical-align: middle;\n",
       "    }\n",
       "\n",
       "    .dataframe tbody tr th {\n",
       "        vertical-align: top;\n",
       "    }\n",
       "\n",
       "    .dataframe thead th {\n",
       "        text-align: right;\n",
       "    }\n",
       "</style>\n",
       "<table border=\"1\" class=\"dataframe\">\n",
       "  <thead>\n",
       "    <tr style=\"text-align: right;\">\n",
       "      <th></th>\n",
       "      <th>iid</th>\n",
       "      <th>est_rate</th>\n",
       "      <th>Title</th>\n",
       "      <th>rate_count</th>\n",
       "    </tr>\n",
       "  </thead>\n",
       "  <tbody>\n",
       "    <tr>\n",
       "      <th>0</th>\n",
       "      <td>2.0</td>\n",
       "      <td>2.81</td>\n",
       "      <td>Jumanji (1995)</td>\n",
       "      <td>110</td>\n",
       "    </tr>\n",
       "  </tbody>\n",
       "</table>\n",
       "</div>"
      ],
      "text/plain": [
       "   iid  est_rate           Title  rate_count\n",
       "0  2.0      2.81  Jumanji (1995)         110"
      ]
     },
     "execution_count": 145,
     "metadata": {},
     "output_type": "execute_result"
    }
   ],
   "source": [
    "film_rates.head(1)"
   ]
  },
  {
   "cell_type": "code",
   "execution_count": 147,
   "metadata": {},
   "outputs": [],
   "source": [
    "mean_rate_count = film_rates['rate_count'].mean()\n",
    "std_rate_count = film_rates['rate_count'].std()"
   ]
  },
  {
   "cell_type": "code",
   "execution_count": 148,
   "metadata": {},
   "outputs": [],
   "source": [
    "# прежде, чем рекомендовать фильмы пользователю 15, посчитаем нормированную оценку фильмам,\n",
    "# учитывающую количество оценок.\n",
    "film_rates['normed_est_rate'] = film_rates['est_rate']*(film_rates['rate_count'] - mean_rate_count) / (film_rates['rate_count'])"
   ]
  },
  {
   "cell_type": "code",
   "execution_count": 150,
   "metadata": {},
   "outputs": [
    {
     "data": {
      "text/html": [
       "<div>\n",
       "<style scoped>\n",
       "    .dataframe tbody tr th:only-of-type {\n",
       "        vertical-align: middle;\n",
       "    }\n",
       "\n",
       "    .dataframe tbody tr th {\n",
       "        vertical-align: top;\n",
       "    }\n",
       "\n",
       "    .dataframe thead th {\n",
       "        text-align: right;\n",
       "    }\n",
       "</style>\n",
       "<table border=\"1\" class=\"dataframe\">\n",
       "  <thead>\n",
       "    <tr style=\"text-align: right;\">\n",
       "      <th></th>\n",
       "      <th>iid</th>\n",
       "      <th>est_rate</th>\n",
       "      <th>Title</th>\n",
       "      <th>rate_count</th>\n",
       "      <th>normed_est_rate</th>\n",
       "    </tr>\n",
       "  </thead>\n",
       "  <tbody>\n",
       "    <tr>\n",
       "      <th>1008</th>\n",
       "      <td>1213.0</td>\n",
       "      <td>4.25</td>\n",
       "      <td>Goodfellas (1990)</td>\n",
       "      <td>126</td>\n",
       "      <td>3.938416</td>\n",
       "    </tr>\n",
       "    <tr>\n",
       "      <th>4080</th>\n",
       "      <td>4973.0</td>\n",
       "      <td>4.19</td>\n",
       "      <td>Amelie (Fabuleux destin d'Amélie Poulain, Le) ...</td>\n",
       "      <td>120</td>\n",
       "      <td>3.867455</td>\n",
       "    </tr>\n",
       "    <tr>\n",
       "      <th>550</th>\n",
       "      <td>608.0</td>\n",
       "      <td>3.98</td>\n",
       "      <td>Fargo (1996)</td>\n",
       "      <td>181</td>\n",
       "      <td>3.776876</td>\n",
       "    </tr>\n",
       "    <tr>\n",
       "      <th>5539</th>\n",
       "      <td>7153.0</td>\n",
       "      <td>3.94</td>\n",
       "      <td>Lord of the Rings: The Return of the King, The...</td>\n",
       "      <td>185</td>\n",
       "      <td>3.743265</td>\n",
       "    </tr>\n",
       "    <tr>\n",
       "      <th>1004</th>\n",
       "      <td>1208.0</td>\n",
       "      <td>4.08</td>\n",
       "      <td>Apocalypse Now (1979)</td>\n",
       "      <td>107</td>\n",
       "      <td>3.727764</td>\n",
       "    </tr>\n",
       "    <tr>\n",
       "      <th>46</th>\n",
       "      <td>50.0</td>\n",
       "      <td>3.89</td>\n",
       "      <td>Usual Suspects, The (1995)</td>\n",
       "      <td>204</td>\n",
       "      <td>3.713852</td>\n",
       "    </tr>\n",
       "    <tr>\n",
       "      <th>1015</th>\n",
       "      <td>1221.0</td>\n",
       "      <td>3.99</td>\n",
       "      <td>Godfather: Part II, The (1974)</td>\n",
       "      <td>129</td>\n",
       "      <td>3.704280</td>\n",
       "    </tr>\n",
       "    <tr>\n",
       "      <th>424</th>\n",
       "      <td>457.0</td>\n",
       "      <td>3.89</td>\n",
       "      <td>Fugitive, The (1993)</td>\n",
       "      <td>190</td>\n",
       "      <td>3.700873</td>\n",
       "    </tr>\n",
       "    <tr>\n",
       "      <th>104</th>\n",
       "      <td>110.0</td>\n",
       "      <td>3.85</td>\n",
       "      <td>Braveheart (1995)</td>\n",
       "      <td>237</td>\n",
       "      <td>3.699938</td>\n",
       "    </tr>\n",
       "    <tr>\n",
       "      <th>1428</th>\n",
       "      <td>1704.0</td>\n",
       "      <td>3.94</td>\n",
       "      <td>Good Will Hunting (1997)</td>\n",
       "      <td>141</td>\n",
       "      <td>3.681872</td>\n",
       "    </tr>\n",
       "  </tbody>\n",
       "</table>\n",
       "</div>"
      ],
      "text/plain": [
       "         iid  est_rate                                              Title  \\\n",
       "1008  1213.0      4.25                                  Goodfellas (1990)   \n",
       "4080  4973.0      4.19  Amelie (Fabuleux destin d'Amélie Poulain, Le) ...   \n",
       "550    608.0      3.98                                       Fargo (1996)   \n",
       "5539  7153.0      3.94  Lord of the Rings: The Return of the King, The...   \n",
       "1004  1208.0      4.08                              Apocalypse Now (1979)   \n",
       "46      50.0      3.89                         Usual Suspects, The (1995)   \n",
       "1015  1221.0      3.99                     Godfather: Part II, The (1974)   \n",
       "424    457.0      3.89                               Fugitive, The (1993)   \n",
       "104    110.0      3.85                                  Braveheart (1995)   \n",
       "1428  1704.0      3.94                           Good Will Hunting (1997)   \n",
       "\n",
       "      rate_count  normed_est_rate  \n",
       "1008         126         3.938416  \n",
       "4080         120         3.867455  \n",
       "550          181         3.776876  \n",
       "5539         185         3.743265  \n",
       "1004         107         3.727764  \n",
       "46           204         3.713852  \n",
       "1015         129         3.704280  \n",
       "424          190         3.700873  \n",
       "104          237         3.699938  \n",
       "1428         141         3.681872  "
      ]
     },
     "execution_count": 150,
     "metadata": {},
     "output_type": "execute_result"
    }
   ],
   "source": [
    "# топ 10 рекомендуемых фильмов для пользователя 15.\n",
    "film_rates.sort_values('normed_est_rate', ascending=False).head(10)"
   ]
  },
  {
   "cell_type": "code",
   "execution_count": null,
   "metadata": {},
   "outputs": [],
   "source": []
  }
 ],
 "metadata": {
  "kernelspec": {
   "display_name": "Python 3",
   "language": "python",
   "name": "python3"
  },
  "language_info": {
   "codemirror_mode": {
    "name": "ipython",
    "version": 3
   },
   "file_extension": ".py",
   "mimetype": "text/x-python",
   "name": "python",
   "nbconvert_exporter": "python",
   "pygments_lexer": "ipython3",
   "version": "3.7.1"
  }
 },
 "nbformat": 4,
 "nbformat_minor": 2
}
