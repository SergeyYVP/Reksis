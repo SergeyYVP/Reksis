{
 "cells": [
  {
   "cell_type": "code",
   "execution_count": 15,
   "metadata": {},
   "outputs": [],
   "source": [
    "import pandas as pd\n",
    "import numpy as np\n",
    "import scipy.sparse as sparse\n",
    "from implicit.als import AlternatingLeastSquares"
   ]
  },
  {
   "cell_type": "markdown",
   "metadata": {},
   "source": [
    "“Требуется построить модель рекомендаций на основе скрытых факторов (implicit) на основе dataset’а https://grouplens.org/datasets/hetrec-2011/ (Delicious Bookmarks)”"
   ]
  },
  {
   "cell_type": "code",
   "execution_count": 46,
   "metadata": {},
   "outputs": [
    {
     "name": "stderr",
     "output_type": "stream",
     "text": [
      "/home/sergey/anaconda3/lib/python3.7/site-packages/ipykernel_launcher.py:1: ParserWarning: Falling back to the 'python' engine because the 'c' engine does not support regex separators (separators > 1 char and different from '\\s+' are interpreted as regex); you can avoid this warning by specifying engine='python'.\n",
      "  \"\"\"Entry point for launching an IPython kernel.\n"
     ]
    }
   ],
   "source": [
    "data = pd.read_table('hetrec2011-delicious-2k/user_taggedbookmarks-timestamps.dat', sep='\\\\n', delimiter='\\\\t')"
   ]
  },
  {
   "cell_type": "code",
   "execution_count": 47,
   "metadata": {},
   "outputs": [
    {
     "data": {
      "text/html": [
       "<div>\n",
       "<style scoped>\n",
       "    .dataframe tbody tr th:only-of-type {\n",
       "        vertical-align: middle;\n",
       "    }\n",
       "\n",
       "    .dataframe tbody tr th {\n",
       "        vertical-align: top;\n",
       "    }\n",
       "\n",
       "    .dataframe thead th {\n",
       "        text-align: right;\n",
       "    }\n",
       "</style>\n",
       "<table border=\"1\" class=\"dataframe\">\n",
       "  <thead>\n",
       "    <tr style=\"text-align: right;\">\n",
       "      <th></th>\n",
       "      <th>userID</th>\n",
       "      <th>bookmarkID</th>\n",
       "      <th>tagID</th>\n",
       "      <th>timestamp</th>\n",
       "    </tr>\n",
       "  </thead>\n",
       "  <tbody>\n",
       "    <tr>\n",
       "      <th>0</th>\n",
       "      <td>8</td>\n",
       "      <td>1</td>\n",
       "      <td>1</td>\n",
       "      <td>1289255362000</td>\n",
       "    </tr>\n",
       "    <tr>\n",
       "      <th>1</th>\n",
       "      <td>8</td>\n",
       "      <td>2</td>\n",
       "      <td>1</td>\n",
       "      <td>1289255159000</td>\n",
       "    </tr>\n",
       "    <tr>\n",
       "      <th>2</th>\n",
       "      <td>8</td>\n",
       "      <td>7</td>\n",
       "      <td>1</td>\n",
       "      <td>1289238901000</td>\n",
       "    </tr>\n",
       "    <tr>\n",
       "      <th>3</th>\n",
       "      <td>8</td>\n",
       "      <td>7</td>\n",
       "      <td>6</td>\n",
       "      <td>1289238901000</td>\n",
       "    </tr>\n",
       "    <tr>\n",
       "      <th>4</th>\n",
       "      <td>8</td>\n",
       "      <td>7</td>\n",
       "      <td>7</td>\n",
       "      <td>1289238901000</td>\n",
       "    </tr>\n",
       "  </tbody>\n",
       "</table>\n",
       "</div>"
      ],
      "text/plain": [
       "   userID  bookmarkID  tagID      timestamp\n",
       "0       8           1      1  1289255362000\n",
       "1       8           2      1  1289255159000\n",
       "2       8           7      1  1289238901000\n",
       "3       8           7      6  1289238901000\n",
       "4       8           7      7  1289238901000"
      ]
     },
     "execution_count": 47,
     "metadata": {},
     "output_type": "execute_result"
    }
   ],
   "source": [
    "data.head()"
   ]
  },
  {
   "cell_type": "code",
   "execution_count": 48,
   "metadata": {},
   "outputs": [],
   "source": [
    "# посчитаем количество тэгов на одну закладку и одного пользователя\n",
    "data = data.groupby(['userID', 'bookmarkID'], as_index=False)['tagID'].count()"
   ]
  },
  {
   "cell_type": "code",
   "execution_count": 49,
   "metadata": {},
   "outputs": [],
   "source": [
    "data.rename(columns={'tagID': 'num_of_tags'}, inplace=True)"
   ]
  },
  {
   "cell_type": "code",
   "execution_count": 50,
   "metadata": {},
   "outputs": [
    {
     "data": {
      "text/html": [
       "<div>\n",
       "<style scoped>\n",
       "    .dataframe tbody tr th:only-of-type {\n",
       "        vertical-align: middle;\n",
       "    }\n",
       "\n",
       "    .dataframe tbody tr th {\n",
       "        vertical-align: top;\n",
       "    }\n",
       "\n",
       "    .dataframe thead th {\n",
       "        text-align: right;\n",
       "    }\n",
       "</style>\n",
       "<table border=\"1\" class=\"dataframe\">\n",
       "  <thead>\n",
       "    <tr style=\"text-align: right;\">\n",
       "      <th></th>\n",
       "      <th>userID</th>\n",
       "      <th>bookmarkID</th>\n",
       "      <th>num_of_tags</th>\n",
       "    </tr>\n",
       "  </thead>\n",
       "  <tbody>\n",
       "    <tr>\n",
       "      <th>0</th>\n",
       "      <td>8</td>\n",
       "      <td>1</td>\n",
       "      <td>1</td>\n",
       "    </tr>\n",
       "    <tr>\n",
       "      <th>1</th>\n",
       "      <td>8</td>\n",
       "      <td>2</td>\n",
       "      <td>1</td>\n",
       "    </tr>\n",
       "    <tr>\n",
       "      <th>2</th>\n",
       "      <td>8</td>\n",
       "      <td>7</td>\n",
       "      <td>3</td>\n",
       "    </tr>\n",
       "    <tr>\n",
       "      <th>3</th>\n",
       "      <td>8</td>\n",
       "      <td>8</td>\n",
       "      <td>3</td>\n",
       "    </tr>\n",
       "    <tr>\n",
       "      <th>4</th>\n",
       "      <td>8</td>\n",
       "      <td>9</td>\n",
       "      <td>2</td>\n",
       "    </tr>\n",
       "  </tbody>\n",
       "</table>\n",
       "</div>"
      ],
      "text/plain": [
       "   userID  bookmarkID  num_of_tags\n",
       "0       8           1            1\n",
       "1       8           2            1\n",
       "2       8           7            3\n",
       "3       8           8            3\n",
       "4       8           9            2"
      ]
     },
     "execution_count": 50,
     "metadata": {},
     "output_type": "execute_result"
    }
   ],
   "source": [
    "data.head()"
   ]
  },
  {
   "cell_type": "markdown",
   "metadata": {},
   "source": [
    "Преобразуем id пользователей и закладок, так чтобы они представляли непрерывную последовательность целых чисел, начиная с нуля."
   ]
  },
  {
   "cell_type": "code",
   "execution_count": 51,
   "metadata": {},
   "outputs": [],
   "source": [
    "user_id_lookup = dict(zip(range(data['userID'].nunique()), data['userID'].unique()))\n",
    "bookmark_id_lookup = dict(zip(range(data['bookmarkID'].nunique()), data['bookmarkID'].unique()))"
   ]
  },
  {
   "cell_type": "code",
   "execution_count": 52,
   "metadata": {},
   "outputs": [],
   "source": [
    "data['userID'] = data['userID'].map({v: k for k, v in user_id_lookup.items()})\n",
    "data['bookmarkID'] = data['bookmarkID'].map({v: k for k, v in bookmark_id_lookup.items()})"
   ]
  },
  {
   "cell_type": "code",
   "execution_count": 53,
   "metadata": {},
   "outputs": [
    {
     "data": {
      "text/html": [
       "<div>\n",
       "<style scoped>\n",
       "    .dataframe tbody tr th:only-of-type {\n",
       "        vertical-align: middle;\n",
       "    }\n",
       "\n",
       "    .dataframe tbody tr th {\n",
       "        vertical-align: top;\n",
       "    }\n",
       "\n",
       "    .dataframe thead th {\n",
       "        text-align: right;\n",
       "    }\n",
       "</style>\n",
       "<table border=\"1\" class=\"dataframe\">\n",
       "  <thead>\n",
       "    <tr style=\"text-align: right;\">\n",
       "      <th></th>\n",
       "      <th>userID</th>\n",
       "      <th>bookmarkID</th>\n",
       "      <th>num_of_tags</th>\n",
       "    </tr>\n",
       "  </thead>\n",
       "  <tbody>\n",
       "    <tr>\n",
       "      <th>0</th>\n",
       "      <td>0</td>\n",
       "      <td>0</td>\n",
       "      <td>1</td>\n",
       "    </tr>\n",
       "    <tr>\n",
       "      <th>1</th>\n",
       "      <td>0</td>\n",
       "      <td>1</td>\n",
       "      <td>1</td>\n",
       "    </tr>\n",
       "    <tr>\n",
       "      <th>2</th>\n",
       "      <td>0</td>\n",
       "      <td>2</td>\n",
       "      <td>3</td>\n",
       "    </tr>\n",
       "    <tr>\n",
       "      <th>3</th>\n",
       "      <td>0</td>\n",
       "      <td>3</td>\n",
       "      <td>3</td>\n",
       "    </tr>\n",
       "    <tr>\n",
       "      <th>4</th>\n",
       "      <td>0</td>\n",
       "      <td>4</td>\n",
       "      <td>2</td>\n",
       "    </tr>\n",
       "  </tbody>\n",
       "</table>\n",
       "</div>"
      ],
      "text/plain": [
       "   userID  bookmarkID  num_of_tags\n",
       "0       0           0            1\n",
       "1       0           1            1\n",
       "2       0           2            3\n",
       "3       0           3            3\n",
       "4       0           4            2"
      ]
     },
     "execution_count": 53,
     "metadata": {},
     "output_type": "execute_result"
    }
   ],
   "source": [
    "data.head()"
   ]
  },
  {
   "cell_type": "code",
   "execution_count": 54,
   "metadata": {},
   "outputs": [
    {
     "name": "stderr",
     "output_type": "stream",
     "text": [
      "/home/sergey/anaconda3/lib/python3.7/site-packages/ipykernel_launcher.py:1: ParserWarning: Falling back to the 'python' engine because the 'c' engine does not support regex separators (separators > 1 char and different from '\\s+' are interpreted as regex); you can avoid this warning by specifying engine='python'.\n",
      "  \"\"\"Entry point for launching an IPython kernel.\n"
     ]
    }
   ],
   "source": [
    "url_id = pd.read_table('hetrec2011-delicious-2k/bookmarks.dat', sep='\\\\n', delimiter='\\\\t')"
   ]
  },
  {
   "cell_type": "code",
   "execution_count": 55,
   "metadata": {},
   "outputs": [
    {
     "data": {
      "text/html": [
       "<div>\n",
       "<style scoped>\n",
       "    .dataframe tbody tr th:only-of-type {\n",
       "        vertical-align: middle;\n",
       "    }\n",
       "\n",
       "    .dataframe tbody tr th {\n",
       "        vertical-align: top;\n",
       "    }\n",
       "\n",
       "    .dataframe thead th {\n",
       "        text-align: right;\n",
       "    }\n",
       "</style>\n",
       "<table border=\"1\" class=\"dataframe\">\n",
       "  <thead>\n",
       "    <tr style=\"text-align: right;\">\n",
       "      <th></th>\n",
       "      <th>id</th>\n",
       "      <th>md5</th>\n",
       "      <th>title</th>\n",
       "      <th>url</th>\n",
       "      <th>md5Principal</th>\n",
       "      <th>urlPrincipal</th>\n",
       "    </tr>\n",
       "  </thead>\n",
       "  <tbody>\n",
       "    <tr>\n",
       "      <th>0</th>\n",
       "      <td>1</td>\n",
       "      <td>ab4954b633ddaf5b5bba6e9b71aa6b70</td>\n",
       "      <td>IFLA - The official website of the Internation...</td>\n",
       "      <td>http://www.ifla.org/</td>\n",
       "      <td>7f431306c428457bc4e12b15634484f</td>\n",
       "      <td>www.ifla.org</td>\n",
       "    </tr>\n",
       "    <tr>\n",
       "      <th>1</th>\n",
       "      <td>2</td>\n",
       "      <td>2221e9cd106d269dd34682666f576fa3</td>\n",
       "      <td>gcdp-e.pdf (application/pdf Object)</td>\n",
       "      <td>http://archive.ifla.org/VII/s14/nd1/gcdp-e.pdf</td>\n",
       "      <td>1ef8cfcfe968101fa9b4e301847503d4</td>\n",
       "      <td>archive.ifla.org</td>\n",
       "    </tr>\n",
       "  </tbody>\n",
       "</table>\n",
       "</div>"
      ],
      "text/plain": [
       "   id                               md5  \\\n",
       "0   1  ab4954b633ddaf5b5bba6e9b71aa6b70   \n",
       "1   2  2221e9cd106d269dd34682666f576fa3   \n",
       "\n",
       "                                               title  \\\n",
       "0  IFLA - The official website of the Internation...   \n",
       "1                gcdp-e.pdf (application/pdf Object)   \n",
       "\n",
       "                                              url  \\\n",
       "0                            http://www.ifla.org/   \n",
       "1  http://archive.ifla.org/VII/s14/nd1/gcdp-e.pdf   \n",
       "\n",
       "                       md5Principal      urlPrincipal  \n",
       "0   7f431306c428457bc4e12b15634484f      www.ifla.org  \n",
       "1  1ef8cfcfe968101fa9b4e301847503d4  archive.ifla.org  "
      ]
     },
     "execution_count": 55,
     "metadata": {},
     "output_type": "execute_result"
    }
   ],
   "source": [
    "url_id.head(2)"
   ]
  },
  {
   "cell_type": "code",
   "execution_count": 56,
   "metadata": {},
   "outputs": [],
   "source": [
    "url_id.drop(['md5', 'md5Principal'], axis=1, inplace=True)"
   ]
  },
  {
   "cell_type": "code",
   "execution_count": 57,
   "metadata": {},
   "outputs": [
    {
     "data": {
      "text/html": [
       "<div>\n",
       "<style scoped>\n",
       "    .dataframe tbody tr th:only-of-type {\n",
       "        vertical-align: middle;\n",
       "    }\n",
       "\n",
       "    .dataframe tbody tr th {\n",
       "        vertical-align: top;\n",
       "    }\n",
       "\n",
       "    .dataframe thead th {\n",
       "        text-align: right;\n",
       "    }\n",
       "</style>\n",
       "<table border=\"1\" class=\"dataframe\">\n",
       "  <thead>\n",
       "    <tr style=\"text-align: right;\">\n",
       "      <th></th>\n",
       "      <th>id</th>\n",
       "      <th>title</th>\n",
       "      <th>url</th>\n",
       "      <th>urlPrincipal</th>\n",
       "    </tr>\n",
       "  </thead>\n",
       "  <tbody>\n",
       "    <tr>\n",
       "      <th>0</th>\n",
       "      <td>1</td>\n",
       "      <td>IFLA - The official website of the Internation...</td>\n",
       "      <td>http://www.ifla.org/</td>\n",
       "      <td>www.ifla.org</td>\n",
       "    </tr>\n",
       "    <tr>\n",
       "      <th>1</th>\n",
       "      <td>2</td>\n",
       "      <td>gcdp-e.pdf (application/pdf Object)</td>\n",
       "      <td>http://archive.ifla.org/VII/s14/nd1/gcdp-e.pdf</td>\n",
       "      <td>archive.ifla.org</td>\n",
       "    </tr>\n",
       "  </tbody>\n",
       "</table>\n",
       "</div>"
      ],
      "text/plain": [
       "   id                                              title  \\\n",
       "0   1  IFLA - The official website of the Internation...   \n",
       "1   2                gcdp-e.pdf (application/pdf Object)   \n",
       "\n",
       "                                              url      urlPrincipal  \n",
       "0                            http://www.ifla.org/      www.ifla.org  \n",
       "1  http://archive.ifla.org/VII/s14/nd1/gcdp-e.pdf  archive.ifla.org  "
      ]
     },
     "execution_count": 57,
     "metadata": {},
     "output_type": "execute_result"
    }
   ],
   "source": [
    "url_id.head(2)"
   ]
  },
  {
   "cell_type": "code",
   "execution_count": 59,
   "metadata": {},
   "outputs": [
    {
     "data": {
      "text/html": [
       "<div>\n",
       "<style scoped>\n",
       "    .dataframe tbody tr th:only-of-type {\n",
       "        vertical-align: middle;\n",
       "    }\n",
       "\n",
       "    .dataframe tbody tr th {\n",
       "        vertical-align: top;\n",
       "    }\n",
       "\n",
       "    .dataframe thead th {\n",
       "        text-align: right;\n",
       "    }\n",
       "</style>\n",
       "<table border=\"1\" class=\"dataframe\">\n",
       "  <thead>\n",
       "    <tr style=\"text-align: right;\">\n",
       "      <th></th>\n",
       "      <th>userID</th>\n",
       "      <th>bookmarkID</th>\n",
       "      <th>num_of_tags</th>\n",
       "    </tr>\n",
       "  </thead>\n",
       "  <tbody>\n",
       "    <tr>\n",
       "      <th>count</th>\n",
       "      <td>104799.000000</td>\n",
       "      <td>104799.000000</td>\n",
       "      <td>104799.000000</td>\n",
       "    </tr>\n",
       "    <tr>\n",
       "      <th>mean</th>\n",
       "      <td>895.579939</td>\n",
       "      <td>27116.365547</td>\n",
       "      <td>4.175546</td>\n",
       "    </tr>\n",
       "    <tr>\n",
       "      <th>std</th>\n",
       "      <td>548.079983</td>\n",
       "      <td>20262.253733</td>\n",
       "      <td>3.200233</td>\n",
       "    </tr>\n",
       "    <tr>\n",
       "      <th>min</th>\n",
       "      <td>0.000000</td>\n",
       "      <td>0.000000</td>\n",
       "      <td>1.000000</td>\n",
       "    </tr>\n",
       "    <tr>\n",
       "      <th>25%</th>\n",
       "      <td>397.000000</td>\n",
       "      <td>9684.500000</td>\n",
       "      <td>2.000000</td>\n",
       "    </tr>\n",
       "    <tr>\n",
       "      <th>50%</th>\n",
       "      <td>893.000000</td>\n",
       "      <td>20935.000000</td>\n",
       "      <td>3.000000</td>\n",
       "    </tr>\n",
       "    <tr>\n",
       "      <th>75%</th>\n",
       "      <td>1375.000000</td>\n",
       "      <td>43907.500000</td>\n",
       "      <td>5.000000</td>\n",
       "    </tr>\n",
       "    <tr>\n",
       "      <th>max</th>\n",
       "      <td>1866.000000</td>\n",
       "      <td>69222.000000</td>\n",
       "      <td>70.000000</td>\n",
       "    </tr>\n",
       "  </tbody>\n",
       "</table>\n",
       "</div>"
      ],
      "text/plain": [
       "              userID     bookmarkID    num_of_tags\n",
       "count  104799.000000  104799.000000  104799.000000\n",
       "mean      895.579939   27116.365547       4.175546\n",
       "std       548.079983   20262.253733       3.200233\n",
       "min         0.000000       0.000000       1.000000\n",
       "25%       397.000000    9684.500000       2.000000\n",
       "50%       893.000000   20935.000000       3.000000\n",
       "75%      1375.000000   43907.500000       5.000000\n",
       "max      1866.000000   69222.000000      70.000000"
      ]
     },
     "execution_count": 59,
     "metadata": {},
     "output_type": "execute_result"
    }
   ],
   "source": [
    "data.describe()"
   ]
  },
  {
   "cell_type": "code",
   "execution_count": 64,
   "metadata": {},
   "outputs": [],
   "source": [
    "ids = list(np.sort(data['userID'].unique()))\n",
    "urls = list(np.sort(data['bookmarkID'].unique()))"
   ]
  },
  {
   "cell_type": "code",
   "execution_count": 68,
   "metadata": {},
   "outputs": [],
   "source": [
    "rows = data['userID']\n",
    "cols = data['bookmarkID']\n",
    "bookmarked = data['num_of_tags']"
   ]
  },
  {
   "cell_type": "code",
   "execution_count": 69,
   "metadata": {},
   "outputs": [
    {
     "data": {
      "text/plain": [
       "(69222, 1866, 0, 0)"
      ]
     },
     "execution_count": 69,
     "metadata": {},
     "output_type": "execute_result"
    }
   ],
   "source": [
    "cols.max(), rows.max(), cols.min(), rows.min()"
   ]
  },
  {
   "cell_type": "code",
   "execution_count": 70,
   "metadata": {},
   "outputs": [
    {
     "data": {
      "text/plain": [
       "(69223, 1867)"
      ]
     },
     "execution_count": 70,
     "metadata": {},
     "output_type": "execute_result"
    }
   ],
   "source": [
    "len(urls), len(ids)"
   ]
  },
  {
   "cell_type": "code",
   "execution_count": 71,
   "metadata": {},
   "outputs": [
    {
     "data": {
      "text/plain": [
       "(104799, 104799, 104799)"
      ]
     },
     "execution_count": 71,
     "metadata": {},
     "output_type": "execute_result"
    }
   ],
   "source": [
    "len(rows), len(cols), len(bookmarked)"
   ]
  },
  {
   "cell_type": "code",
   "execution_count": 72,
   "metadata": {},
   "outputs": [],
   "source": [
    "data_sparse = sparse.csr_matrix((bookmarked, (cols, rows)), shape=(len(urls), len(ids)))"
   ]
  },
  {
   "cell_type": "code",
   "execution_count": 73,
   "metadata": {},
   "outputs": [
    {
     "name": "stderr",
     "output_type": "stream",
     "text": [
      "100%|██████████| 15.0/15 [00:09<00:00,  1.42it/s]\n"
     ]
    }
   ],
   "source": [
    "model = AlternatingLeastSquares(factors=100)\n",
    "model.fit(data_sparse)"
   ]
  },
  {
   "cell_type": "code",
   "execution_count": 93,
   "metadata": {},
   "outputs": [
    {
     "name": "stdout",
     "output_type": "stream",
     "text": [
      "рекомендации для пользователя 3957\n"
     ]
    }
   ],
   "source": [
    "userid = 100\n",
    "print(f'рекомендации для пользователя {user_id_lookup[userid]}')"
   ]
  },
  {
   "cell_type": "code",
   "execution_count": 84,
   "metadata": {},
   "outputs": [],
   "source": [
    "user_items = data_sparse.transpose()\n",
    "recommendations = model.recommend(userid, user_items)\n",
    "# заменим id закладок на исходные\n",
    "recommendations = [(bookmark_id_lookup[rec[0]], rec[1]) for rec in recommendations]"
   ]
  },
  {
   "cell_type": "code",
   "execution_count": 85,
   "metadata": {},
   "outputs": [
    {
     "data": {
      "text/plain": [
       "[(9132, 0.6205618),\n",
       " (4276, 0.58708686),\n",
       " (4044, 0.5611164),\n",
       " (9100, 0.5353863),\n",
       " (4342, 0.53132313),\n",
       " (9104, 0.48688334),\n",
       " (9111, 0.48678592),\n",
       " (2618, 0.48070496),\n",
       " (9127, 0.4797324),\n",
       " (9092, 0.47254503)]"
      ]
     },
     "execution_count": 85,
     "metadata": {},
     "output_type": "execute_result"
    }
   ],
   "source": [
    "recommendations"
   ]
  },
  {
   "cell_type": "code",
   "execution_count": 87,
   "metadata": {},
   "outputs": [
    {
     "data": {
      "text/html": [
       "<div>\n",
       "<style scoped>\n",
       "    .dataframe tbody tr th:only-of-type {\n",
       "        vertical-align: middle;\n",
       "    }\n",
       "\n",
       "    .dataframe tbody tr th {\n",
       "        vertical-align: top;\n",
       "    }\n",
       "\n",
       "    .dataframe thead th {\n",
       "        text-align: right;\n",
       "    }\n",
       "</style>\n",
       "<table border=\"1\" class=\"dataframe\">\n",
       "  <thead>\n",
       "    <tr style=\"text-align: right;\">\n",
       "      <th></th>\n",
       "      <th>id</th>\n",
       "      <th>title</th>\n",
       "      <th>url</th>\n",
       "      <th>urlPrincipal</th>\n",
       "    </tr>\n",
       "  </thead>\n",
       "  <tbody>\n",
       "    <tr>\n",
       "      <th>1903</th>\n",
       "      <td>2618</td>\n",
       "      <td>Wordpress Snippets</td>\n",
       "      <td>http://wp-snippets.com/</td>\n",
       "      <td>wp-snippets.com</td>\n",
       "    </tr>\n",
       "    <tr>\n",
       "      <th>2831</th>\n",
       "      <td>4044</td>\n",
       "      <td>UI Guidelines for mobile and tablet web app de...</td>\n",
       "      <td>http://www.mobilexweb.com/blog/ui-guidelines-m...</td>\n",
       "      <td>www.mobilexweb.com</td>\n",
       "    </tr>\n",
       "    <tr>\n",
       "      <th>2975</th>\n",
       "      <td>4276</td>\n",
       "      <td>Flipboard for iPad</td>\n",
       "      <td>http://www.flipboard.com/</td>\n",
       "      <td>www.flipboard.com</td>\n",
       "    </tr>\n",
       "    <tr>\n",
       "      <th>3023</th>\n",
       "      <td>4342</td>\n",
       "      <td>Theme Finder, a WPCandy Project</td>\n",
       "      <td>http://themefinder.wpcandy.com/</td>\n",
       "      <td>themefinder.wpcandy.com</td>\n",
       "    </tr>\n",
       "    <tr>\n",
       "      <th>6514</th>\n",
       "      <td>9092</td>\n",
       "      <td>Spazio web, database, traffico, servizi cloud ...</td>\n",
       "      <td>http://www.webmasterpoint.org/news/spazio-web-...</td>\n",
       "      <td>www.webmasterpoint.org</td>\n",
       "    </tr>\n",
       "    <tr>\n",
       "      <th>6520</th>\n",
       "      <td>9100</td>\n",
       "      <td>Theme Layouts | ThemeGarden.com</td>\n",
       "      <td>http://www.themegarden.com/theme-layouts/</td>\n",
       "      <td>www.themegarden.com</td>\n",
       "    </tr>\n",
       "    <tr>\n",
       "      <th>6524</th>\n",
       "      <td>9104</td>\n",
       "      <td>Data Visualization: Modern Approaches | Graphi...</td>\n",
       "      <td>http://www.smashingmagazine.com/2007/08/02/dat...</td>\n",
       "      <td>www.smashingmagazine.com</td>\n",
       "    </tr>\n",
       "    <tr>\n",
       "      <th>6528</th>\n",
       "      <td>9111</td>\n",
       "      <td>Fracture | The greatest way from your digital ...</td>\n",
       "      <td>http://www.fractureme.com/</td>\n",
       "      <td>www.fractureme.com</td>\n",
       "    </tr>\n",
       "    <tr>\n",
       "      <th>6539</th>\n",
       "      <td>9127</td>\n",
       "      <td>Is Google Making Us Stupid? - Magazine - The A...</td>\n",
       "      <td>http://www.theatlantic.com/magazine/archive/20...</td>\n",
       "      <td>www.theatlantic.com</td>\n",
       "    </tr>\n",
       "    <tr>\n",
       "      <th>6542</th>\n",
       "      <td>9132</td>\n",
       "      <td>Tweet Nest</td>\n",
       "      <td>http://pongsocket.com/tweetnest/</td>\n",
       "      <td>pongsocket.com</td>\n",
       "    </tr>\n",
       "  </tbody>\n",
       "</table>\n",
       "</div>"
      ],
      "text/plain": [
       "        id                                              title  \\\n",
       "1903  2618                                 Wordpress Snippets   \n",
       "2831  4044  UI Guidelines for mobile and tablet web app de...   \n",
       "2975  4276                                 Flipboard for iPad   \n",
       "3023  4342                    Theme Finder, a WPCandy Project   \n",
       "6514  9092  Spazio web, database, traffico, servizi cloud ...   \n",
       "6520  9100                    Theme Layouts | ThemeGarden.com   \n",
       "6524  9104  Data Visualization: Modern Approaches | Graphi...   \n",
       "6528  9111  Fracture | The greatest way from your digital ...   \n",
       "6539  9127  Is Google Making Us Stupid? - Magazine - The A...   \n",
       "6542  9132                                         Tweet Nest   \n",
       "\n",
       "                                                    url  \\\n",
       "1903                            http://wp-snippets.com/   \n",
       "2831  http://www.mobilexweb.com/blog/ui-guidelines-m...   \n",
       "2975                          http://www.flipboard.com/   \n",
       "3023                    http://themefinder.wpcandy.com/   \n",
       "6514  http://www.webmasterpoint.org/news/spazio-web-...   \n",
       "6520          http://www.themegarden.com/theme-layouts/   \n",
       "6524  http://www.smashingmagazine.com/2007/08/02/dat...   \n",
       "6528                         http://www.fractureme.com/   \n",
       "6539  http://www.theatlantic.com/magazine/archive/20...   \n",
       "6542                   http://pongsocket.com/tweetnest/   \n",
       "\n",
       "                  urlPrincipal  \n",
       "1903           wp-snippets.com  \n",
       "2831        www.mobilexweb.com  \n",
       "2975         www.flipboard.com  \n",
       "3023   themefinder.wpcandy.com  \n",
       "6514    www.webmasterpoint.org  \n",
       "6520       www.themegarden.com  \n",
       "6524  www.smashingmagazine.com  \n",
       "6528        www.fractureme.com  \n",
       "6539       www.theatlantic.com  \n",
       "6542            pongsocket.com  "
      ]
     },
     "execution_count": 87,
     "metadata": {},
     "output_type": "execute_result"
    }
   ],
   "source": [
    "url_id[url_id['id'].isin([rec[0] for rec in recommendations])]"
   ]
  },
  {
   "cell_type": "code",
   "execution_count": 95,
   "metadata": {},
   "outputs": [
    {
     "name": "stdout",
     "output_type": "stream",
     "text": [
      "закладки схожие с 12959\n"
     ]
    }
   ],
   "source": [
    "itemid = 9104\n",
    "print(f'закладки схожие с {bookmark_id_lookup[itemid]}')"
   ]
  },
  {
   "cell_type": "code",
   "execution_count": 90,
   "metadata": {},
   "outputs": [],
   "source": [
    "related = model.similar_items(itemid)\n",
    "related = [(bookmark_id_lookup[rel[0]], rel[1]) for rel in related]"
   ]
  },
  {
   "cell_type": "code",
   "execution_count": 91,
   "metadata": {},
   "outputs": [
    {
     "data": {
      "text/plain": [
       "[(12959, 0.2245222),\n",
       " (12983, 0.22428977),\n",
       " (13000, 0.22428945),\n",
       " (12989, 0.22428896),\n",
       " (12997, 0.22428535),\n",
       " (12971, 0.22428079),\n",
       " (12963, 0.2242804),\n",
       " (12975, 0.22427502),\n",
       " (12961, 0.22425865),\n",
       " (12966, 0.22425257)]"
      ]
     },
     "execution_count": 91,
     "metadata": {},
     "output_type": "execute_result"
    }
   ],
   "source": [
    "related"
   ]
  },
  {
   "cell_type": "code",
   "execution_count": 92,
   "metadata": {},
   "outputs": [
    {
     "data": {
      "text/html": [
       "<div>\n",
       "<style scoped>\n",
       "    .dataframe tbody tr th:only-of-type {\n",
       "        vertical-align: middle;\n",
       "    }\n",
       "\n",
       "    .dataframe tbody tr th {\n",
       "        vertical-align: top;\n",
       "    }\n",
       "\n",
       "    .dataframe thead th {\n",
       "        text-align: right;\n",
       "    }\n",
       "</style>\n",
       "<table border=\"1\" class=\"dataframe\">\n",
       "  <thead>\n",
       "    <tr style=\"text-align: right;\">\n",
       "      <th></th>\n",
       "      <th>id</th>\n",
       "      <th>title</th>\n",
       "      <th>url</th>\n",
       "      <th>urlPrincipal</th>\n",
       "    </tr>\n",
       "  </thead>\n",
       "  <tbody>\n",
       "    <tr>\n",
       "      <th>9123</th>\n",
       "      <td>12959</td>\n",
       "      <td>Django | The Web framework for perfectionists ...</td>\n",
       "      <td>http://www.djangoproject.com/</td>\n",
       "      <td>www.djangoproject.com</td>\n",
       "    </tr>\n",
       "    <tr>\n",
       "      <th>9124</th>\n",
       "      <td>12961</td>\n",
       "      <td>Assostartup – Associazione Italiana Profession...</td>\n",
       "      <td>http://www.assostartup.it/</td>\n",
       "      <td>www.assostartup.it</td>\n",
       "    </tr>\n",
       "    <tr>\n",
       "      <th>9125</th>\n",
       "      <td>12963</td>\n",
       "      <td>7 A/B Testing Resources for Startups and Solo ...</td>\n",
       "      <td>http://mashable.com/2010/11/04/a-b-testing-res...</td>\n",
       "      <td>mashable.com</td>\n",
       "    </tr>\n",
       "    <tr>\n",
       "      <th>9126</th>\n",
       "      <td>12966</td>\n",
       "      <td>Viral Farm</td>\n",
       "      <td>http://www.viralfarm.it/</td>\n",
       "      <td>www.viralfarm.it</td>\n",
       "    </tr>\n",
       "    <tr>\n",
       "      <th>9130</th>\n",
       "      <td>12971</td>\n",
       "      <td>PadPyrus - Bring your paper to Mobile</td>\n",
       "      <td>http://www.padpyrus.com/index.html</td>\n",
       "      <td>www.padpyrus.com</td>\n",
       "    </tr>\n",
       "    <tr>\n",
       "      <th>9134</th>\n",
       "      <td>12975</td>\n",
       "      <td>Passpack Password Manager Home | Free Online P...</td>\n",
       "      <td>http://www.passpack.com/en/home/</td>\n",
       "      <td>www.passpack.com</td>\n",
       "    </tr>\n",
       "    <tr>\n",
       "      <th>9137</th>\n",
       "      <td>12983</td>\n",
       "      <td>How to Create a Banner Ad Revenue Estimate - B...</td>\n",
       "      <td>http://www.bigpictureweb.com/blog/2009/6/2/how...</td>\n",
       "      <td>www.bigpictureweb.com</td>\n",
       "    </tr>\n",
       "    <tr>\n",
       "      <th>9139</th>\n",
       "      <td>12989</td>\n",
       "      <td>Web 3.0: che cos’è?</td>\n",
       "      <td>http://www.webmasterpoint.org/news/web-30-che-...</td>\n",
       "      <td>www.webmasterpoint.org</td>\n",
       "    </tr>\n",
       "    <tr>\n",
       "      <th>9142</th>\n",
       "      <td>12997</td>\n",
       "      <td>Pazienti.org | Storie in rete che cambiano la ...</td>\n",
       "      <td>http://www.pazienti.org/</td>\n",
       "      <td>www.pazienti.org</td>\n",
       "    </tr>\n",
       "    <tr>\n",
       "      <th>9144</th>\n",
       "      <td>13000</td>\n",
       "      <td>Ibrii</td>\n",
       "      <td>http://www.ibrii.com/</td>\n",
       "      <td>www.ibrii.com</td>\n",
       "    </tr>\n",
       "  </tbody>\n",
       "</table>\n",
       "</div>"
      ],
      "text/plain": [
       "         id                                              title  \\\n",
       "9123  12959  Django | The Web framework for perfectionists ...   \n",
       "9124  12961  Assostartup – Associazione Italiana Profession...   \n",
       "9125  12963  7 A/B Testing Resources for Startups and Solo ...   \n",
       "9126  12966                                         Viral Farm   \n",
       "9130  12971              PadPyrus - Bring your paper to Mobile   \n",
       "9134  12975  Passpack Password Manager Home | Free Online P...   \n",
       "9137  12983  How to Create a Banner Ad Revenue Estimate - B...   \n",
       "9139  12989                                Web 3.0: che cos’è?   \n",
       "9142  12997  Pazienti.org | Storie in rete che cambiano la ...   \n",
       "9144  13000                                              Ibrii   \n",
       "\n",
       "                                                    url  \\\n",
       "9123                      http://www.djangoproject.com/   \n",
       "9124                         http://www.assostartup.it/   \n",
       "9125  http://mashable.com/2010/11/04/a-b-testing-res...   \n",
       "9126                           http://www.viralfarm.it/   \n",
       "9130                 http://www.padpyrus.com/index.html   \n",
       "9134                   http://www.passpack.com/en/home/   \n",
       "9137  http://www.bigpictureweb.com/blog/2009/6/2/how...   \n",
       "9139  http://www.webmasterpoint.org/news/web-30-che-...   \n",
       "9142                           http://www.pazienti.org/   \n",
       "9144                              http://www.ibrii.com/   \n",
       "\n",
       "                urlPrincipal  \n",
       "9123   www.djangoproject.com  \n",
       "9124      www.assostartup.it  \n",
       "9125            mashable.com  \n",
       "9126        www.viralfarm.it  \n",
       "9130        www.padpyrus.com  \n",
       "9134        www.passpack.com  \n",
       "9137   www.bigpictureweb.com  \n",
       "9139  www.webmasterpoint.org  \n",
       "9142        www.pazienti.org  \n",
       "9144           www.ibrii.com  "
      ]
     },
     "execution_count": 92,
     "metadata": {},
     "output_type": "execute_result"
    }
   ],
   "source": [
    "url_id[url_id['id'].isin([rel[0] for rel in related])]"
   ]
  },
  {
   "cell_type": "code",
   "execution_count": null,
   "metadata": {},
   "outputs": [],
   "source": []
  },
  {
   "cell_type": "code",
   "execution_count": null,
   "metadata": {},
   "outputs": [],
   "source": []
  }
 ],
 "metadata": {
  "kernelspec": {
   "display_name": "Python 3",
   "language": "python",
   "name": "python3"
  },
  "language_info": {
   "codemirror_mode": {
    "name": "ipython",
    "version": 3
   },
   "file_extension": ".py",
   "mimetype": "text/x-python",
   "name": "python",
   "nbconvert_exporter": "python",
   "pygments_lexer": "ipython3",
   "version": "3.7.1"
  }
 },
 "nbformat": 4,
 "nbformat_minor": 2
}
